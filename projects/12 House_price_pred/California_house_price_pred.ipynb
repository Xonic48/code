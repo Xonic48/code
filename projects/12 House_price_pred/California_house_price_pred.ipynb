{
 "cells": [
  {
   "cell_type": "code",
   "execution_count": 1,
   "id": "1fdefb2f",
   "metadata": {},
   "outputs": [],
   "source": [
    "import numpy as np\n",
    "import pandas as pd\n",
    "import matplotlib as plt\n",
    "import seaborn as sns\n",
    "import sklearn.datasets\n",
    "from sklearn.model_selection import train_test_split\n",
    "from xgboost import XGBRegressor\n",
    "from sklearn import metrics"
   ]
  },
  {
   "cell_type": "code",
   "execution_count": 2,
   "id": "89e9d8c9",
   "metadata": {},
   "outputs": [
    {
     "data": {
      "text/plain": [
       "dict_keys(['data', 'target', 'frame', 'target_names', 'feature_names', 'DESCR'])"
      ]
     },
     "execution_count": 2,
     "metadata": {},
     "output_type": "execute_result"
    }
   ],
   "source": [
    "### Importing the California price dataset\n",
    "data = sklearn.datasets.fetch_california_housing()\n",
    "data.keys()"
   ]
  },
  {
   "cell_type": "code",
   "execution_count": 3,
   "id": "b62bf533",
   "metadata": {},
   "outputs": [
    {
     "data": {
      "text/html": [
       "<div>\n",
       "<style scoped>\n",
       "    .dataframe tbody tr th:only-of-type {\n",
       "        vertical-align: middle;\n",
       "    }\n",
       "\n",
       "    .dataframe tbody tr th {\n",
       "        vertical-align: top;\n",
       "    }\n",
       "\n",
       "    .dataframe thead th {\n",
       "        text-align: right;\n",
       "    }\n",
       "</style>\n",
       "<table border=\"1\" class=\"dataframe\">\n",
       "  <thead>\n",
       "    <tr style=\"text-align: right;\">\n",
       "      <th></th>\n",
       "      <th>MedInc</th>\n",
       "      <th>HouseAge</th>\n",
       "      <th>AveRooms</th>\n",
       "      <th>AveBedrms</th>\n",
       "      <th>Population</th>\n",
       "      <th>AveOccup</th>\n",
       "      <th>Latitude</th>\n",
       "      <th>Longitude</th>\n",
       "      <th>Price</th>\n",
       "    </tr>\n",
       "  </thead>\n",
       "  <tbody>\n",
       "    <tr>\n",
       "      <th>0</th>\n",
       "      <td>8.3252</td>\n",
       "      <td>41.0</td>\n",
       "      <td>6.984127</td>\n",
       "      <td>1.023810</td>\n",
       "      <td>322.0</td>\n",
       "      <td>2.555556</td>\n",
       "      <td>37.88</td>\n",
       "      <td>-122.23</td>\n",
       "      <td>4.526</td>\n",
       "    </tr>\n",
       "    <tr>\n",
       "      <th>1</th>\n",
       "      <td>8.3014</td>\n",
       "      <td>21.0</td>\n",
       "      <td>6.238137</td>\n",
       "      <td>0.971880</td>\n",
       "      <td>2401.0</td>\n",
       "      <td>2.109842</td>\n",
       "      <td>37.86</td>\n",
       "      <td>-122.22</td>\n",
       "      <td>3.585</td>\n",
       "    </tr>\n",
       "    <tr>\n",
       "      <th>2</th>\n",
       "      <td>7.2574</td>\n",
       "      <td>52.0</td>\n",
       "      <td>8.288136</td>\n",
       "      <td>1.073446</td>\n",
       "      <td>496.0</td>\n",
       "      <td>2.802260</td>\n",
       "      <td>37.85</td>\n",
       "      <td>-122.24</td>\n",
       "      <td>3.521</td>\n",
       "    </tr>\n",
       "    <tr>\n",
       "      <th>3</th>\n",
       "      <td>5.6431</td>\n",
       "      <td>52.0</td>\n",
       "      <td>5.817352</td>\n",
       "      <td>1.073059</td>\n",
       "      <td>558.0</td>\n",
       "      <td>2.547945</td>\n",
       "      <td>37.85</td>\n",
       "      <td>-122.25</td>\n",
       "      <td>3.413</td>\n",
       "    </tr>\n",
       "    <tr>\n",
       "      <th>4</th>\n",
       "      <td>3.8462</td>\n",
       "      <td>52.0</td>\n",
       "      <td>6.281853</td>\n",
       "      <td>1.081081</td>\n",
       "      <td>565.0</td>\n",
       "      <td>2.181467</td>\n",
       "      <td>37.85</td>\n",
       "      <td>-122.25</td>\n",
       "      <td>3.422</td>\n",
       "    </tr>\n",
       "  </tbody>\n",
       "</table>\n",
       "</div>"
      ],
      "text/plain": [
       "   MedInc  HouseAge  AveRooms  AveBedrms  Population  AveOccup  Latitude  \\\n",
       "0  8.3252      41.0  6.984127   1.023810       322.0  2.555556     37.88   \n",
       "1  8.3014      21.0  6.238137   0.971880      2401.0  2.109842     37.86   \n",
       "2  7.2574      52.0  8.288136   1.073446       496.0  2.802260     37.85   \n",
       "3  5.6431      52.0  5.817352   1.073059       558.0  2.547945     37.85   \n",
       "4  3.8462      52.0  6.281853   1.081081       565.0  2.181467     37.85   \n",
       "\n",
       "   Longitude  Price  \n",
       "0    -122.23  4.526  \n",
       "1    -122.22  3.585  \n",
       "2    -122.24  3.521  \n",
       "3    -122.25  3.413  \n",
       "4    -122.25  3.422  "
      ]
     },
     "execution_count": 3,
     "metadata": {},
     "output_type": "execute_result"
    }
   ],
   "source": [
    "df = pd.DataFrame(data.data, columns = data.feature_names)\n",
    "df['Price'] = data.target\n",
    "df.head()"
   ]
  },
  {
   "cell_type": "code",
   "execution_count": 4,
   "id": "c95be646",
   "metadata": {},
   "outputs": [
    {
     "data": {
      "text/plain": [
       "(20640, 9)"
      ]
     },
     "execution_count": 4,
     "metadata": {},
     "output_type": "execute_result"
    }
   ],
   "source": [
    "df.shape"
   ]
  },
  {
   "cell_type": "code",
   "execution_count": 5,
   "id": "2cc61cfc",
   "metadata": {},
   "outputs": [
    {
     "data": {
      "text/plain": [
       "MedInc        0\n",
       "HouseAge      0\n",
       "AveRooms      0\n",
       "AveBedrms     0\n",
       "Population    0\n",
       "AveOccup      0\n",
       "Latitude      0\n",
       "Longitude     0\n",
       "Price         0\n",
       "dtype: int64"
      ]
     },
     "execution_count": 5,
     "metadata": {},
     "output_type": "execute_result"
    }
   ],
   "source": [
    "df.isnull().sum()"
   ]
  },
  {
   "cell_type": "code",
   "execution_count": 6,
   "id": "5f146836",
   "metadata": {},
   "outputs": [
    {
     "data": {
      "text/html": [
       "<div>\n",
       "<style scoped>\n",
       "    .dataframe tbody tr th:only-of-type {\n",
       "        vertical-align: middle;\n",
       "    }\n",
       "\n",
       "    .dataframe tbody tr th {\n",
       "        vertical-align: top;\n",
       "    }\n",
       "\n",
       "    .dataframe thead th {\n",
       "        text-align: right;\n",
       "    }\n",
       "</style>\n",
       "<table border=\"1\" class=\"dataframe\">\n",
       "  <thead>\n",
       "    <tr style=\"text-align: right;\">\n",
       "      <th></th>\n",
       "      <th>count</th>\n",
       "      <th>mean</th>\n",
       "      <th>std</th>\n",
       "      <th>min</th>\n",
       "      <th>25%</th>\n",
       "      <th>50%</th>\n",
       "      <th>75%</th>\n",
       "      <th>max</th>\n",
       "    </tr>\n",
       "  </thead>\n",
       "  <tbody>\n",
       "    <tr>\n",
       "      <th>MedInc</th>\n",
       "      <td>20640.0</td>\n",
       "      <td>3.870671</td>\n",
       "      <td>1.899822</td>\n",
       "      <td>0.499900</td>\n",
       "      <td>2.563400</td>\n",
       "      <td>3.534800</td>\n",
       "      <td>4.743250</td>\n",
       "      <td>15.000100</td>\n",
       "    </tr>\n",
       "    <tr>\n",
       "      <th>HouseAge</th>\n",
       "      <td>20640.0</td>\n",
       "      <td>28.639486</td>\n",
       "      <td>12.585558</td>\n",
       "      <td>1.000000</td>\n",
       "      <td>18.000000</td>\n",
       "      <td>29.000000</td>\n",
       "      <td>37.000000</td>\n",
       "      <td>52.000000</td>\n",
       "    </tr>\n",
       "    <tr>\n",
       "      <th>AveRooms</th>\n",
       "      <td>20640.0</td>\n",
       "      <td>5.429000</td>\n",
       "      <td>2.474173</td>\n",
       "      <td>0.846154</td>\n",
       "      <td>4.440716</td>\n",
       "      <td>5.229129</td>\n",
       "      <td>6.052381</td>\n",
       "      <td>141.909091</td>\n",
       "    </tr>\n",
       "    <tr>\n",
       "      <th>AveBedrms</th>\n",
       "      <td>20640.0</td>\n",
       "      <td>1.096675</td>\n",
       "      <td>0.473911</td>\n",
       "      <td>0.333333</td>\n",
       "      <td>1.006079</td>\n",
       "      <td>1.048780</td>\n",
       "      <td>1.099526</td>\n",
       "      <td>34.066667</td>\n",
       "    </tr>\n",
       "    <tr>\n",
       "      <th>Population</th>\n",
       "      <td>20640.0</td>\n",
       "      <td>1425.476744</td>\n",
       "      <td>1132.462122</td>\n",
       "      <td>3.000000</td>\n",
       "      <td>787.000000</td>\n",
       "      <td>1166.000000</td>\n",
       "      <td>1725.000000</td>\n",
       "      <td>35682.000000</td>\n",
       "    </tr>\n",
       "    <tr>\n",
       "      <th>AveOccup</th>\n",
       "      <td>20640.0</td>\n",
       "      <td>3.070655</td>\n",
       "      <td>10.386050</td>\n",
       "      <td>0.692308</td>\n",
       "      <td>2.429741</td>\n",
       "      <td>2.818116</td>\n",
       "      <td>3.282261</td>\n",
       "      <td>1243.333333</td>\n",
       "    </tr>\n",
       "    <tr>\n",
       "      <th>Latitude</th>\n",
       "      <td>20640.0</td>\n",
       "      <td>35.631861</td>\n",
       "      <td>2.135952</td>\n",
       "      <td>32.540000</td>\n",
       "      <td>33.930000</td>\n",
       "      <td>34.260000</td>\n",
       "      <td>37.710000</td>\n",
       "      <td>41.950000</td>\n",
       "    </tr>\n",
       "    <tr>\n",
       "      <th>Longitude</th>\n",
       "      <td>20640.0</td>\n",
       "      <td>-119.569704</td>\n",
       "      <td>2.003532</td>\n",
       "      <td>-124.350000</td>\n",
       "      <td>-121.800000</td>\n",
       "      <td>-118.490000</td>\n",
       "      <td>-118.010000</td>\n",
       "      <td>-114.310000</td>\n",
       "    </tr>\n",
       "    <tr>\n",
       "      <th>Price</th>\n",
       "      <td>20640.0</td>\n",
       "      <td>2.068558</td>\n",
       "      <td>1.153956</td>\n",
       "      <td>0.149990</td>\n",
       "      <td>1.196000</td>\n",
       "      <td>1.797000</td>\n",
       "      <td>2.647250</td>\n",
       "      <td>5.000010</td>\n",
       "    </tr>\n",
       "  </tbody>\n",
       "</table>\n",
       "</div>"
      ],
      "text/plain": [
       "              count         mean          std         min         25%  \\\n",
       "MedInc      20640.0     3.870671     1.899822    0.499900    2.563400   \n",
       "HouseAge    20640.0    28.639486    12.585558    1.000000   18.000000   \n",
       "AveRooms    20640.0     5.429000     2.474173    0.846154    4.440716   \n",
       "AveBedrms   20640.0     1.096675     0.473911    0.333333    1.006079   \n",
       "Population  20640.0  1425.476744  1132.462122    3.000000  787.000000   \n",
       "AveOccup    20640.0     3.070655    10.386050    0.692308    2.429741   \n",
       "Latitude    20640.0    35.631861     2.135952   32.540000   33.930000   \n",
       "Longitude   20640.0  -119.569704     2.003532 -124.350000 -121.800000   \n",
       "Price       20640.0     2.068558     1.153956    0.149990    1.196000   \n",
       "\n",
       "                    50%          75%           max  \n",
       "MedInc         3.534800     4.743250     15.000100  \n",
       "HouseAge      29.000000    37.000000     52.000000  \n",
       "AveRooms       5.229129     6.052381    141.909091  \n",
       "AveBedrms      1.048780     1.099526     34.066667  \n",
       "Population  1166.000000  1725.000000  35682.000000  \n",
       "AveOccup       2.818116     3.282261   1243.333333  \n",
       "Latitude      34.260000    37.710000     41.950000  \n",
       "Longitude   -118.490000  -118.010000   -114.310000  \n",
       "Price          1.797000     2.647250      5.000010  "
      ]
     },
     "execution_count": 6,
     "metadata": {},
     "output_type": "execute_result"
    }
   ],
   "source": [
    "df.describe().transpose()"
   ]
  },
  {
   "cell_type": "markdown",
   "id": "3aed95f2",
   "metadata": {},
   "source": [
    "<h6> Understanding the correlation between various features in the dataset"
   ]
  },
  {
   "cell_type": "code",
   "execution_count": 7,
   "id": "a0d86580",
   "metadata": {},
   "outputs": [
    {
     "data": {
      "text/plain": [
       "<Axes: >"
      ]
     },
     "execution_count": 7,
     "metadata": {},
     "output_type": "execute_result"
    },
    {
     "data": {
      "image/png": "[encoded data removed]",
      "text/plain": [
       "<Figure size 640x480 with 2 Axes>"
      ]
     },
     "metadata": {},
     "output_type": "display_data"
    }
   ],
   "source": [
    "correlation = df.corr()\n",
    "plt.figure.Figure(figsize=(10,10))\n",
    "sns.heatmap(correlation, cbar=True, square=True, fmt='.1f', annot=True, annot_kws={'size':8}, cmap='crest')"
   ]
  },
  {
   "cell_type": "markdown",
   "id": "8de810cc",
   "metadata": {},
   "source": [
    "<h5> Spliting the data"
   ]
  },
  {
   "cell_type": "code",
   "execution_count": 8,
   "id": "c7fc6bce",
   "metadata": {},
   "outputs": [],
   "source": [
    "X = df.drop('Price', axis=1)\n",
    "y = df.Price"
   ]
  },
  {
   "cell_type": "code",
   "execution_count": 9,
   "id": "1b7b558d",
   "metadata": {},
   "outputs": [],
   "source": [
    "X_train, X_test, Y_train, Y_test = train_test_split(X, y, test_size = 0.2, random_state = 2023)"
   ]
  },
  {
   "cell_type": "code",
   "execution_count": 10,
   "id": "c10cae8c",
   "metadata": {},
   "outputs": [],
   "source": [
    "from sklearn.preprocessing import StandardScaler\n",
    "scaler = StandardScaler()\n",
    "X_train = scaler.fit_transform(X_train)\n",
    "X_test = scaler.transform(X_test)"
   ]
  },
  {
   "cell_type": "markdown",
   "id": "1169294d",
   "metadata": {},
   "source": [
    "### Using XGBoost"
   ]
  },
  {
   "cell_type": "markdown",
   "id": "ae2abc5d",
   "metadata": {},
   "source": [
    "<h4> Model training"
   ]
  },
  {
   "cell_type": "code",
   "execution_count": 11,
   "id": "f9e50661",
   "metadata": {},
   "outputs": [],
   "source": [
    "model = XGBRegressor().fit(X_train, Y_train)"
   ]
  },
  {
   "cell_type": "markdown",
   "id": "7f648896",
   "metadata": {},
   "source": [
    "<h5> Evaluation "
   ]
  },
  {
   "cell_type": "code",
   "execution_count": 12,
   "id": "1049f39a",
   "metadata": {},
   "outputs": [],
   "source": [
    "train_pred =  model.predict(X_train)"
   ]
  },
  {
   "cell_type": "code",
   "execution_count": 13,
   "id": "6c54cd64",
   "metadata": {},
   "outputs": [
    {
     "name": "stdout",
     "output_type": "stream",
     "text": [
      "r squared error:  0.9453906063315605\n",
      "mean absolute error:  0.18932742766637184\n"
     ]
    }
   ],
   "source": [
    "print('r squared error: ',metrics.r2_score(Y_train, train_pred))\n",
    "print('mean absolute error: ',metrics.mean_absolute_error(Y_train, train_pred))"
   ]
  },
  {
   "cell_type": "code",
   "execution_count": 14,
   "id": "7ac872df",
   "metadata": {},
   "outputs": [],
   "source": [
    "test_pred =  model.predict(X_test)"
   ]
  },
  {
   "cell_type": "code",
   "execution_count": 15,
   "id": "d1b746f4",
   "metadata": {},
   "outputs": [
    {
     "name": "stdout",
     "output_type": "stream",
     "text": [
      "r squared error:  0.8348604922978908\n",
      "mean absolute error:  0.3117575900818303\n"
     ]
    }
   ],
   "source": [
    "print('r squared error: ',metrics.r2_score(Y_test, test_pred))\n",
    "print('mean absolute error: ',metrics.mean_absolute_error(Y_test, test_pred))"
   ]
  },
  {
   "cell_type": "markdown",
   "id": "b69463b7",
   "metadata": {},
   "source": [
    "### Using tensorflow"
   ]
  },
  {
   "cell_type": "code",
   "execution_count": 16,
   "id": "cc36058c",
   "metadata": {},
   "outputs": [],
   "source": [
    "import tensorflow as tf\n",
    "import keras\n",
    "from keras import layers"
   ]
  },
  {
   "cell_type": "code",
   "execution_count": 17,
   "id": "71c840e1",
   "metadata": {},
   "outputs": [],
   "source": [
    "X_train = tf.convert_to_tensor(X_train)\n",
    "Y_train = tf.convert_to_tensor(Y_train)\n",
    "\n",
    "X_test = tf.convert_to_tensor(X_test)\n",
    "Y_test = tf.convert_to_tensor(Y_test)"
   ]
  },
  {
   "cell_type": "code",
   "execution_count": 18,
   "id": "12337679",
   "metadata": {
    "scrolled": true
   },
   "outputs": [
    {
     "name": "stdout",
     "output_type": "stream",
     "text": [
      "Epoch 1/50\n",
      "516/516 [==============================] - 2s 2ms/step - loss: 0.4978\n",
      "Epoch 2/50\n",
      "516/516 [==============================] - 1s 2ms/step - loss: 0.4182\n",
      "Epoch 3/50\n",
      "516/516 [==============================] - 1s 2ms/step - loss: 0.3951\n",
      "Epoch 4/50\n",
      "516/516 [==============================] - 1s 2ms/step - loss: 0.3796\n",
      "Epoch 5/50\n",
      "516/516 [==============================] - 1s 2ms/step - loss: 0.3694\n",
      "Epoch 6/50\n",
      "516/516 [==============================] - 1s 2ms/step - loss: 0.3651\n",
      "Epoch 7/50\n",
      "516/516 [==============================] - 1s 2ms/step - loss: 0.3605\n",
      "Epoch 8/50\n",
      "516/516 [==============================] - 1s 2ms/step - loss: 0.3539\n",
      "Epoch 9/50\n",
      "516/516 [==============================] - 1s 2ms/step - loss: 0.3496\n",
      "Epoch 10/50\n",
      "516/516 [==============================] - 1s 2ms/step - loss: 0.3484\n",
      "Epoch 11/50\n",
      "516/516 [==============================] - 1s 2ms/step - loss: 0.3442\n",
      "Epoch 12/50\n",
      "516/516 [==============================] - 1s 2ms/step - loss: 0.3415\n",
      "Epoch 13/50\n",
      "516/516 [==============================] - 1s 2ms/step - loss: 0.3410\n",
      "Epoch 14/50\n",
      "516/516 [==============================] - 1s 2ms/step - loss: 0.3400\n",
      "Epoch 15/50\n",
      "516/516 [==============================] - 1s 2ms/step - loss: 0.3357\n",
      "Epoch 16/50\n",
      "516/516 [==============================] - 1s 2ms/step - loss: 0.3340\n",
      "Epoch 17/50\n",
      "516/516 [==============================] - 1s 2ms/step - loss: 0.3316\n",
      "Epoch 18/50\n",
      "516/516 [==============================] - 1s 2ms/step - loss: 0.3317\n",
      "Epoch 19/50\n",
      "516/516 [==============================] - 1s 2ms/step - loss: 0.3319\n",
      "Epoch 20/50\n",
      "516/516 [==============================] - 1s 2ms/step - loss: 0.3285\n",
      "Epoch 21/50\n",
      "516/516 [==============================] - 1s 2ms/step - loss: 0.3281\n",
      "Epoch 22/50\n",
      "516/516 [==============================] - 1s 2ms/step - loss: 0.3267\n",
      "Epoch 23/50\n",
      "516/516 [==============================] - 1s 2ms/step - loss: 0.3268\n",
      "Epoch 24/50\n",
      "516/516 [==============================] - 1s 2ms/step - loss: 0.3242\n",
      "Epoch 25/50\n",
      "516/516 [==============================] - 1s 2ms/step - loss: 0.3199\n",
      "Epoch 26/50\n",
      "516/516 [==============================] - 1s 2ms/step - loss: 0.3218\n",
      "Epoch 27/50\n",
      "516/516 [==============================] - 1s 2ms/step - loss: 0.3202\n",
      "Epoch 28/50\n",
      "516/516 [==============================] - 1s 2ms/step - loss: 0.3201\n",
      "Epoch 29/50\n",
      "516/516 [==============================] - 1s 2ms/step - loss: 0.3180\n",
      "Epoch 30/50\n",
      "516/516 [==============================] - 1s 2ms/step - loss: 0.3179\n",
      "Epoch 31/50\n",
      "516/516 [==============================] - 1s 2ms/step - loss: 0.3177\n",
      "Epoch 32/50\n",
      "516/516 [==============================] - 1s 2ms/step - loss: 0.3169\n",
      "Epoch 33/50\n",
      "516/516 [==============================] - 1s 2ms/step - loss: 0.3155\n",
      "Epoch 34/50\n",
      "516/516 [==============================] - 1s 2ms/step - loss: 0.3132\n",
      "Epoch 35/50\n",
      "516/516 [==============================] - 1s 2ms/step - loss: 0.3117\n",
      "Epoch 36/50\n",
      "516/516 [==============================] - 1s 2ms/step - loss: 0.3118\n",
      "Epoch 37/50\n",
      "516/516 [==============================] - 1s 2ms/step - loss: 0.3107\n",
      "Epoch 38/50\n",
      "516/516 [==============================] - 1s 2ms/step - loss: 0.3092\n",
      "Epoch 39/50\n",
      "516/516 [==============================] - 1s 2ms/step - loss: 0.3084\n",
      "Epoch 40/50\n",
      "516/516 [==============================] - 1s 2ms/step - loss: 0.3092\n",
      "Epoch 41/50\n",
      "516/516 [==============================] - 1s 2ms/step - loss: 0.3050\n",
      "Epoch 42/50\n",
      "516/516 [==============================] - 1s 2ms/step - loss: 0.3071\n",
      "Epoch 43/50\n",
      "516/516 [==============================] - 1s 2ms/step - loss: 0.3081\n",
      "Epoch 44/50\n",
      "516/516 [==============================] - 1s 2ms/step - loss: 0.3055\n",
      "Epoch 45/50\n",
      "516/516 [==============================] - 1s 2ms/step - loss: 0.3035\n",
      "Epoch 46/50\n",
      "516/516 [==============================] - 1s 2ms/step - loss: 0.3015\n",
      "Epoch 47/50\n",
      "516/516 [==============================] - 1s 2ms/step - loss: 0.3046\n",
      "Epoch 48/50\n",
      "516/516 [==============================] - 1s 2ms/step - loss: 0.3019\n",
      "Epoch 49/50\n",
      "516/516 [==============================] - 1s 2ms/step - loss: 0.3003\n",
      "Epoch 50/50\n",
      "516/516 [==============================] - 1s 2ms/step - loss: 0.2994\n"
     ]
    },
    {
     "data": {
      "text/plain": [
       "<keras.callbacks.History at 0x28982379ba0>"
      ]
     },
     "execution_count": 18,
     "metadata": {},
     "output_type": "execute_result"
    }
   ],
   "source": [
    "# Create a model that include the normalization layer\n",
    "inputs = keras.Input(shape=8)\n",
    "x = layers.Dense(500, activation=\"relu\")(inputs)\n",
    "x = layers.Dense(100, activation=\"relu\")(x)\n",
    "outputs = layers.Dense(1)(x)\n",
    "model = keras.Model(inputs, outputs)\n",
    "\n",
    "\n",
    "model.compile(optimizer = 'adam',\n",
    "             loss = 'mae')\n",
    "model.fit(X_train, Y_train, epochs=50)"
   ]
  },
  {
   "cell_type": "code",
   "execution_count": 19,
   "id": "86674a5b",
   "metadata": {},
   "outputs": [
    {
     "name": "stdout",
     "output_type": "stream",
     "text": [
      "129/129 [==============================] - 0s 1ms/step - loss: 0.3298\n"
     ]
    },
    {
     "data": {
      "text/plain": [
       "0.32983696460723877"
      ]
     },
     "execution_count": 19,
     "metadata": {},
     "output_type": "execute_result"
    }
   ],
   "source": [
    "model.evaluate(X_test, Y_test)"
   ]
  }
 ],
 "metadata": {
  "kernelspec": {
   "display_name": "Python 3 (ipykernel)",
   "language": "python",
   "name": "python3"
  },
  "language_info": {
   "codemirror_mode": {
    "name": "ipython",
    "version": 3
   },
   "file_extension": ".py",
   "mimetype": "text/x-python",
   "name": "python",
   "nbconvert_exporter": "python",
   "pygments_lexer": "ipython3",
   "version": "3.10.13"
  }
 },
 "nbformat": 4,
 "nbformat_minor": 5
}
