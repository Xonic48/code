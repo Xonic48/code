{
 "cells": [
  {
   "cell_type": "code",
   "execution_count": 1,
   "id": "1fdefb2f",
   "metadata": {},
   "outputs": [],
   "source": [
    "import pandas as pd\n",
    "import matplotlib as plt\n",
    "import seaborn as sns\n",
    "from sklearn.model_selection import train_test_split\n",
    "from sklearn.linear_model import LinearRegression\n",
    "from sklearn.metrics import r2_score, mean_absolute_error\n",
    "\n",
    "import warnings\n",
    "warnings.filterwarnings(\"ignore\")"
   ]
  },
  {
   "cell_type": "code",
   "execution_count": 2,
   "id": "89e9d8c9",
   "metadata": {},
   "outputs": [
    {
     "data": {
      "text/html": [
       "<div>\n",
       "<style scoped>\n",
       "    .dataframe tbody tr th:only-of-type {\n",
       "        vertical-align: middle;\n",
       "    }\n",
       "\n",
       "    .dataframe tbody tr th {\n",
       "        vertical-align: top;\n",
       "    }\n",
       "\n",
       "    .dataframe thead th {\n",
       "        text-align: right;\n",
       "    }\n",
       "</style>\n",
       "<table border=\"1\" class=\"dataframe\">\n",
       "  <thead>\n",
       "    <tr style=\"text-align: right;\">\n",
       "      <th></th>\n",
       "      <th>name</th>\n",
       "      <th>year</th>\n",
       "      <th>selling_price</th>\n",
       "      <th>km_driven</th>\n",
       "      <th>fuel</th>\n",
       "      <th>seller_type</th>\n",
       "      <th>transmission</th>\n",
       "      <th>owner</th>\n",
       "    </tr>\n",
       "  </thead>\n",
       "  <tbody>\n",
       "    <tr>\n",
       "      <th>0</th>\n",
       "      <td>Maruti 800 AC</td>\n",
       "      <td>2007</td>\n",
       "      <td>60000</td>\n",
       "      <td>70000</td>\n",
       "      <td>Petrol</td>\n",
       "      <td>Individual</td>\n",
       "      <td>Manual</td>\n",
       "      <td>First Owner</td>\n",
       "    </tr>\n",
       "    <tr>\n",
       "      <th>1</th>\n",
       "      <td>Maruti Wagon R LXI Minor</td>\n",
       "      <td>2007</td>\n",
       "      <td>135000</td>\n",
       "      <td>50000</td>\n",
       "      <td>Petrol</td>\n",
       "      <td>Individual</td>\n",
       "      <td>Manual</td>\n",
       "      <td>First Owner</td>\n",
       "    </tr>\n",
       "    <tr>\n",
       "      <th>2</th>\n",
       "      <td>Hyundai Verna 1.6 SX</td>\n",
       "      <td>2012</td>\n",
       "      <td>600000</td>\n",
       "      <td>100000</td>\n",
       "      <td>Diesel</td>\n",
       "      <td>Individual</td>\n",
       "      <td>Manual</td>\n",
       "      <td>First Owner</td>\n",
       "    </tr>\n",
       "    <tr>\n",
       "      <th>3</th>\n",
       "      <td>Datsun RediGO T Option</td>\n",
       "      <td>2017</td>\n",
       "      <td>250000</td>\n",
       "      <td>46000</td>\n",
       "      <td>Petrol</td>\n",
       "      <td>Individual</td>\n",
       "      <td>Manual</td>\n",
       "      <td>First Owner</td>\n",
       "    </tr>\n",
       "    <tr>\n",
       "      <th>4</th>\n",
       "      <td>Honda Amaze VX i-DTEC</td>\n",
       "      <td>2014</td>\n",
       "      <td>450000</td>\n",
       "      <td>141000</td>\n",
       "      <td>Diesel</td>\n",
       "      <td>Individual</td>\n",
       "      <td>Manual</td>\n",
       "      <td>Second Owner</td>\n",
       "    </tr>\n",
       "  </tbody>\n",
       "</table>\n",
       "</div>"
      ],
      "text/plain": [
       "                       name  year  selling_price  km_driven    fuel  \\\n",
       "0             Maruti 800 AC  2007          60000      70000  Petrol   \n",
       "1  Maruti Wagon R LXI Minor  2007         135000      50000  Petrol   \n",
       "2      Hyundai Verna 1.6 SX  2012         600000     100000  Diesel   \n",
       "3    Datsun RediGO T Option  2017         250000      46000  Petrol   \n",
       "4     Honda Amaze VX i-DTEC  2014         450000     141000  Diesel   \n",
       "\n",
       "  seller_type transmission         owner  \n",
       "0  Individual       Manual   First Owner  \n",
       "1  Individual       Manual   First Owner  \n",
       "2  Individual       Manual   First Owner  \n",
       "3  Individual       Manual   First Owner  \n",
       "4  Individual       Manual  Second Owner  "
      ]
     },
     "execution_count": 2,
     "metadata": {},
     "output_type": "execute_result"
    }
   ],
   "source": [
    "df = pd.read_csv('price.csv')\n",
    "df.head()"
   ]
  },
  {
   "cell_type": "code",
   "execution_count": 3,
   "id": "c95be646",
   "metadata": {},
   "outputs": [
    {
     "name": "stdout",
     "output_type": "stream",
     "text": [
      "<class 'pandas.core.frame.DataFrame'>\n",
      "RangeIndex: 4340 entries, 0 to 4339\n",
      "Data columns (total 8 columns):\n",
      " #   Column         Non-Null Count  Dtype \n",
      "---  ------         --------------  ----- \n",
      " 0   name           4340 non-null   object\n",
      " 1   year           4340 non-null   int64 \n",
      " 2   selling_price  4340 non-null   int64 \n",
      " 3   km_driven      4340 non-null   int64 \n",
      " 4   fuel           4340 non-null   object\n",
      " 5   seller_type    4340 non-null   object\n",
      " 6   transmission   4340 non-null   object\n",
      " 7   owner          4340 non-null   object\n",
      "dtypes: int64(3), object(5)\n",
      "memory usage: 271.4+ KB\n"
     ]
    }
   ],
   "source": [
    "df.info()"
   ]
  },
  {
   "cell_type": "code",
   "execution_count": 4,
   "id": "5f146836",
   "metadata": {
    "scrolled": true
   },
   "outputs": [
    {
     "data": {
      "text/html": [
       "<div>\n",
       "<style scoped>\n",
       "    .dataframe tbody tr th:only-of-type {\n",
       "        vertical-align: middle;\n",
       "    }\n",
       "\n",
       "    .dataframe tbody tr th {\n",
       "        vertical-align: top;\n",
       "    }\n",
       "\n",
       "    .dataframe thead th {\n",
       "        text-align: right;\n",
       "    }\n",
       "</style>\n",
       "<table border=\"1\" class=\"dataframe\">\n",
       "  <thead>\n",
       "    <tr style=\"text-align: right;\">\n",
       "      <th></th>\n",
       "      <th>count</th>\n",
       "      <th>mean</th>\n",
       "      <th>std</th>\n",
       "      <th>min</th>\n",
       "      <th>25%</th>\n",
       "      <th>50%</th>\n",
       "      <th>75%</th>\n",
       "      <th>max</th>\n",
       "    </tr>\n",
       "  </thead>\n",
       "  <tbody>\n",
       "    <tr>\n",
       "      <th>year</th>\n",
       "      <td>4340.0</td>\n",
       "      <td>2013.090783</td>\n",
       "      <td>4.215344</td>\n",
       "      <td>1992.0</td>\n",
       "      <td>2011.00</td>\n",
       "      <td>2014.0</td>\n",
       "      <td>2016.0</td>\n",
       "      <td>2020.0</td>\n",
       "    </tr>\n",
       "    <tr>\n",
       "      <th>selling_price</th>\n",
       "      <td>4340.0</td>\n",
       "      <td>504127.311751</td>\n",
       "      <td>578548.736139</td>\n",
       "      <td>20000.0</td>\n",
       "      <td>208749.75</td>\n",
       "      <td>350000.0</td>\n",
       "      <td>600000.0</td>\n",
       "      <td>8900000.0</td>\n",
       "    </tr>\n",
       "    <tr>\n",
       "      <th>km_driven</th>\n",
       "      <td>4340.0</td>\n",
       "      <td>66215.777419</td>\n",
       "      <td>46644.102194</td>\n",
       "      <td>1.0</td>\n",
       "      <td>35000.00</td>\n",
       "      <td>60000.0</td>\n",
       "      <td>90000.0</td>\n",
       "      <td>806599.0</td>\n",
       "    </tr>\n",
       "  </tbody>\n",
       "</table>\n",
       "</div>"
      ],
      "text/plain": [
       "                count           mean            std      min        25%  \\\n",
       "year           4340.0    2013.090783       4.215344   1992.0    2011.00   \n",
       "selling_price  4340.0  504127.311751  578548.736139  20000.0  208749.75   \n",
       "km_driven      4340.0   66215.777419   46644.102194      1.0   35000.00   \n",
       "\n",
       "                    50%       75%        max  \n",
       "year             2014.0    2016.0     2020.0  \n",
       "selling_price  350000.0  600000.0  8900000.0  \n",
       "km_driven       60000.0   90000.0   806599.0  "
      ]
     },
     "execution_count": 4,
     "metadata": {},
     "output_type": "execute_result"
    }
   ],
   "source": [
    "df.describe().transpose()"
   ]
  },
  {
   "cell_type": "code",
   "execution_count": 5,
   "id": "47fce3a2",
   "metadata": {},
   "outputs": [
    {
     "data": {
      "text/plain": [
       "{'fuel': array(['Petrol', 'Diesel', 'CNG', 'LPG', 'Electric'], dtype=object),\n",
       " 'seller_type': array(['Individual', 'Dealer', 'Trustmark Dealer'], dtype=object),\n",
       " 'transmission': array(['Manual', 'Automatic'], dtype=object),\n",
       " 'owner': array(['First Owner', 'Second Owner', 'Fourth & Above Owner',\n",
       "        'Third Owner', 'Test Drive Car'], dtype=object)}"
      ]
     },
     "execution_count": 5,
     "metadata": {},
     "output_type": "execute_result"
    }
   ],
   "source": [
    "column = ['fuel','seller_type', 'transmission','owner']\n",
    "values = {}\n",
    "for col in column:\n",
    "    values[col] = df[col].unique()\n",
    "values"
   ]
  },
  {
   "cell_type": "code",
   "execution_count": 6,
   "id": "a45da854",
   "metadata": {},
   "outputs": [],
   "source": [
    "for key, value in values.items():\n",
    "    m=0\n",
    "    value = list(value)\n",
    "    for i in value:\n",
    "        df.replace({key:{i: m}}, inplace = True)\n",
    "        m += 1"
   ]
  },
  {
   "cell_type": "code",
   "execution_count": 7,
   "id": "00ec48e2",
   "metadata": {},
   "outputs": [
    {
     "data": {
      "text/plain": [
       "{'fuel': array([0, 1, 2, 3, 4], dtype=int64),\n",
       " 'seller_type': array([0, 1, 2], dtype=int64),\n",
       " 'transmission': array([0, 1], dtype=int64),\n",
       " 'owner': array([0, 1, 2, 3, 4], dtype=int64)}"
      ]
     },
     "execution_count": 7,
     "metadata": {},
     "output_type": "execute_result"
    }
   ],
   "source": [
    "values = {}\n",
    "for col in column:\n",
    "    values[col] = df[col].unique()\n",
    "values"
   ]
  },
  {
   "cell_type": "markdown",
   "id": "8de810cc",
   "metadata": {},
   "source": [
    "<h5> Spliting the data"
   ]
  },
  {
   "cell_type": "code",
   "execution_count": 8,
   "id": "2082ec32",
   "metadata": {},
   "outputs": [],
   "source": [
    "X = df.drop(['name', 'selling_price'], axis=1)\n",
    "y = df.selling_price"
   ]
  },
  {
   "cell_type": "code",
   "execution_count": 9,
   "id": "1b7b558d",
   "metadata": {},
   "outputs": [],
   "source": [
    "X_train, X_test, y_train, y_test = train_test_split(X, y, test_size = 0.1, random_state = 2023)"
   ]
  },
  {
   "cell_type": "code",
   "execution_count": 10,
   "id": "1156a562",
   "metadata": {},
   "outputs": [],
   "source": [
    "from sklearn.preprocessing import StandardScaler\n",
    "scaler = StandardScaler()\n",
    "X_train = scaler.fit_transform(X_train)\n",
    "X_test = scaler.transform(X_test)"
   ]
  },
  {
   "cell_type": "markdown",
   "id": "1169294d",
   "metadata": {},
   "source": [
    "### Using Linear reg"
   ]
  },
  {
   "cell_type": "code",
   "execution_count": 11,
   "id": "f9e50661",
   "metadata": {},
   "outputs": [],
   "source": [
    "model = LinearRegression().fit(X_train, y_train)"
   ]
  },
  {
   "cell_type": "markdown",
   "id": "7f648896",
   "metadata": {},
   "source": [
    "<h5> Evaluation "
   ]
  },
  {
   "cell_type": "code",
   "execution_count": 12,
   "id": "1049f39a",
   "metadata": {},
   "outputs": [],
   "source": [
    "train_pred =  model.predict(X_train)"
   ]
  },
  {
   "cell_type": "code",
   "execution_count": 13,
   "id": "6c54cd64",
   "metadata": {},
   "outputs": [
    {
     "name": "stdout",
     "output_type": "stream",
     "text": [
      "r squared error:  0.44456682827893435\n",
      "mean absolute error:  231402.533155347\n"
     ]
    }
   ],
   "source": [
    "print('r squared error: ',r2_score(y_train, train_pred))\n",
    "print('mean absolute error: ',mean_absolute_error(y_train, train_pred))"
   ]
  },
  {
   "cell_type": "code",
   "execution_count": 14,
   "id": "7ac872df",
   "metadata": {},
   "outputs": [],
   "source": [
    "test_pred =  model.predict(X_test)"
   ]
  },
  {
   "cell_type": "code",
   "execution_count": 15,
   "id": "d1b746f4",
   "metadata": {},
   "outputs": [
    {
     "name": "stdout",
     "output_type": "stream",
     "text": [
      "r squared error:  0.4051933120177148\n",
      "mean absolute error:  241568.28287083193\n"
     ]
    }
   ],
   "source": [
    "print('r squared error: ',r2_score(y_test, test_pred))\n",
    "print('mean absolute error: ',mean_absolute_error(y_test, test_pred))"
   ]
  },
  {
   "cell_type": "markdown",
   "id": "b69463b7",
   "metadata": {},
   "source": [
    "### Using tensorflow"
   ]
  },
  {
   "cell_type": "code",
   "execution_count": 16,
   "id": "cc36058c",
   "metadata": {},
   "outputs": [],
   "source": [
    "import tensorflow as tf\n",
    "import keras\n",
    "from keras import layers"
   ]
  },
  {
   "cell_type": "code",
   "execution_count": 17,
   "id": "12337679",
   "metadata": {
    "scrolled": false
   },
   "outputs": [
    {
     "name": "stdout",
     "output_type": "stream",
     "text": [
      "Epoch 1/100\n",
      "123/123 [==============================] - 1s 3ms/step - loss: 347202.0312\n",
      "Epoch 2/100\n",
      "123/123 [==============================] - 0s 3ms/step - loss: 207407.7188\n",
      "Epoch 3/100\n",
      "123/123 [==============================] - 0s 3ms/step - loss: 202487.6875\n",
      "Epoch 4/100\n",
      "123/123 [==============================] - 0s 3ms/step - loss: 201670.2500\n",
      "Epoch 5/100\n",
      "123/123 [==============================] - 0s 3ms/step - loss: 197771.3438\n",
      "Epoch 6/100\n",
      "123/123 [==============================] - 0s 3ms/step - loss: 194729.8750\n",
      "Epoch 7/100\n",
      "123/123 [==============================] - 0s 3ms/step - loss: 191309.6719\n",
      "Epoch 8/100\n",
      "123/123 [==============================] - 0s 3ms/step - loss: 189422.9062\n",
      "Epoch 9/100\n",
      "123/123 [==============================] - 0s 3ms/step - loss: 185116.7812\n",
      "Epoch 10/100\n",
      "123/123 [==============================] - 0s 3ms/step - loss: 183901.6250\n",
      "Epoch 11/100\n",
      "123/123 [==============================] - 0s 3ms/step - loss: 177868.5312\n",
      "Epoch 12/100\n",
      "123/123 [==============================] - 0s 3ms/step - loss: 176006.8750\n",
      "Epoch 13/100\n",
      "123/123 [==============================] - 0s 3ms/step - loss: 175485.9531\n",
      "Epoch 14/100\n",
      "123/123 [==============================] - 0s 3ms/step - loss: 175024.9688\n",
      "Epoch 15/100\n",
      "123/123 [==============================] - 0s 3ms/step - loss: 175074.4062\n",
      "Epoch 16/100\n",
      "123/123 [==============================] - 0s 3ms/step - loss: 174415.2656\n",
      "Epoch 17/100\n",
      "123/123 [==============================] - 0s 3ms/step - loss: 173989.9375\n",
      "Epoch 18/100\n",
      "123/123 [==============================] - 0s 3ms/step - loss: 173532.0625\n",
      "Epoch 19/100\n",
      "123/123 [==============================] - 0s 4ms/step - loss: 174133.8438\n",
      "Epoch 20/100\n",
      "123/123 [==============================] - 0s 3ms/step - loss: 172668.5000\n",
      "Epoch 21/100\n",
      "123/123 [==============================] - 0s 3ms/step - loss: 172543.0156\n",
      "Epoch 22/100\n",
      "123/123 [==============================] - 0s 3ms/step - loss: 177725.2500\n",
      "Epoch 23/100\n",
      "123/123 [==============================] - 0s 3ms/step - loss: 171699.9531\n",
      "Epoch 24/100\n",
      "123/123 [==============================] - 0s 3ms/step - loss: 172332.1875\n",
      "Epoch 25/100\n",
      "123/123 [==============================] - 0s 3ms/step - loss: 173850.5312\n",
      "Epoch 26/100\n",
      "123/123 [==============================] - 0s 3ms/step - loss: 170685.4062\n",
      "Epoch 27/100\n",
      "123/123 [==============================] - 0s 3ms/step - loss: 170445.7031\n",
      "Epoch 28/100\n",
      "123/123 [==============================] - 0s 3ms/step - loss: 171990.1562\n",
      "Epoch 29/100\n",
      "123/123 [==============================] - 0s 3ms/step - loss: 169732.2656\n",
      "Epoch 30/100\n",
      "123/123 [==============================] - 0s 4ms/step - loss: 169990.9375\n",
      "Epoch 31/100\n",
      "123/123 [==============================] - 0s 3ms/step - loss: 171904.5781\n",
      "Epoch 32/100\n",
      "123/123 [==============================] - 0s 4ms/step - loss: 169688.3906\n",
      "Epoch 33/100\n",
      "123/123 [==============================] - 0s 3ms/step - loss: 169837.1406\n",
      "Epoch 34/100\n",
      "123/123 [==============================] - 0s 3ms/step - loss: 168848.4375\n",
      "Epoch 35/100\n",
      "123/123 [==============================] - 0s 3ms/step - loss: 168637.5312\n",
      "Epoch 36/100\n",
      "123/123 [==============================] - 0s 3ms/step - loss: 167974.4531\n",
      "Epoch 37/100\n",
      "123/123 [==============================] - 0s 3ms/step - loss: 168410.8594\n",
      "Epoch 38/100\n",
      "123/123 [==============================] - 0s 3ms/step - loss: 169617.2969\n",
      "Epoch 39/100\n",
      "123/123 [==============================] - 0s 3ms/step - loss: 168007.9531\n",
      "Epoch 40/100\n",
      "123/123 [==============================] - 0s 4ms/step - loss: 167327.2656\n",
      "Epoch 41/100\n",
      "123/123 [==============================] - 0s 3ms/step - loss: 168626.6094\n",
      "Epoch 42/100\n",
      "123/123 [==============================] - 0s 3ms/step - loss: 165416.5625\n",
      "Epoch 43/100\n",
      "123/123 [==============================] - 0s 3ms/step - loss: 167632.9375\n",
      "Epoch 44/100\n",
      "123/123 [==============================] - 0s 3ms/step - loss: 165133.7344\n",
      "Epoch 45/100\n",
      "123/123 [==============================] - 0s 3ms/step - loss: 165982.9375\n",
      "Epoch 46/100\n",
      "123/123 [==============================] - 0s 4ms/step - loss: 164569.3750\n",
      "Epoch 47/100\n",
      "123/123 [==============================] - 0s 4ms/step - loss: 165838.0938\n",
      "Epoch 48/100\n",
      "123/123 [==============================] - 0s 3ms/step - loss: 166496.5938\n",
      "Epoch 49/100\n",
      "123/123 [==============================] - 0s 3ms/step - loss: 165473.3906\n",
      "Epoch 50/100\n",
      "123/123 [==============================] - 0s 4ms/step - loss: 170481.6562\n",
      "Epoch 51/100\n",
      "123/123 [==============================] - 0s 4ms/step - loss: 168499.5312\n",
      "Epoch 52/100\n",
      "123/123 [==============================] - 0s 3ms/step - loss: 165678.1875\n",
      "Epoch 53/100\n",
      "123/123 [==============================] - 0s 3ms/step - loss: 166018.1250\n",
      "Epoch 54/100\n",
      "123/123 [==============================] - 0s 3ms/step - loss: 162576.3281\n",
      "Epoch 55/100\n",
      "123/123 [==============================] - 0s 3ms/step - loss: 164743.2969\n",
      "Epoch 56/100\n",
      "123/123 [==============================] - 0s 3ms/step - loss: 162854.8906\n",
      "Epoch 57/100\n",
      "123/123 [==============================] - 0s 3ms/step - loss: 164474.2188\n",
      "Epoch 58/100\n",
      "123/123 [==============================] - 0s 3ms/step - loss: 163683.3281\n",
      "Epoch 59/100\n",
      "123/123 [==============================] - 0s 3ms/step - loss: 166962.2188\n",
      "Epoch 60/100\n",
      "123/123 [==============================] - 0s 3ms/step - loss: 161691.0469\n",
      "Epoch 61/100\n",
      "123/123 [==============================] - 0s 3ms/step - loss: 161766.2188\n",
      "Epoch 62/100\n",
      "123/123 [==============================] - 0s 3ms/step - loss: 162141.7344\n",
      "Epoch 63/100\n",
      "123/123 [==============================] - 0s 3ms/step - loss: 164780.8281\n",
      "Epoch 64/100\n",
      "123/123 [==============================] - 0s 3ms/step - loss: 163007.0156\n",
      "Epoch 65/100\n",
      "123/123 [==============================] - 0s 3ms/step - loss: 160611.0781\n",
      "Epoch 66/100\n",
      "123/123 [==============================] - 0s 3ms/step - loss: 161245.0156\n",
      "Epoch 67/100\n",
      "123/123 [==============================] - 0s 3ms/step - loss: 161161.3438\n",
      "Epoch 68/100\n",
      "123/123 [==============================] - 0s 3ms/step - loss: 161721.8906\n",
      "Epoch 69/100\n",
      "123/123 [==============================] - 0s 3ms/step - loss: 160116.8438\n",
      "Epoch 70/100\n",
      "123/123 [==============================] - 0s 3ms/step - loss: 161677.7812\n",
      "Epoch 71/100\n",
      "123/123 [==============================] - 0s 3ms/step - loss: 161871.4688\n",
      "Epoch 72/100\n",
      "123/123 [==============================] - 0s 3ms/step - loss: 159821.0938\n",
      "Epoch 73/100\n",
      "123/123 [==============================] - 0s 3ms/step - loss: 160145.0312\n",
      "Epoch 74/100\n",
      "123/123 [==============================] - 0s 3ms/step - loss: 161346.2500\n",
      "Epoch 75/100\n",
      "123/123 [==============================] - 0s 3ms/step - loss: 161696.0156\n",
      "Epoch 76/100\n",
      "123/123 [==============================] - 0s 3ms/step - loss: 159734.2969\n",
      "Epoch 77/100\n",
      "123/123 [==============================] - 0s 3ms/step - loss: 159884.8906\n",
      "Epoch 78/100\n",
      "123/123 [==============================] - 0s 3ms/step - loss: 160521.4844\n",
      "Epoch 79/100\n",
      "123/123 [==============================] - 0s 3ms/step - loss: 158656.0156\n",
      "Epoch 80/100\n",
      "123/123 [==============================] - 0s 3ms/step - loss: 161573.9688\n",
      "Epoch 81/100\n",
      "123/123 [==============================] - 0s 3ms/step - loss: 159717.0312\n",
      "Epoch 82/100\n",
      "123/123 [==============================] - 0s 3ms/step - loss: 160151.2344\n",
      "Epoch 83/100\n",
      "123/123 [==============================] - 0s 3ms/step - loss: 159895.2500\n",
      "Epoch 84/100\n",
      "123/123 [==============================] - 0s 3ms/step - loss: 159037.0312\n",
      "Epoch 85/100\n",
      "123/123 [==============================] - 0s 3ms/step - loss: 158441.6719\n",
      "Epoch 86/100\n",
      "123/123 [==============================] - 0s 3ms/step - loss: 161719.6719\n",
      "Epoch 87/100\n",
      "123/123 [==============================] - 0s 3ms/step - loss: 161349.4062\n",
      "Epoch 88/100\n",
      "123/123 [==============================] - 0s 3ms/step - loss: 159757.6094\n",
      "Epoch 89/100\n",
      "123/123 [==============================] - 0s 3ms/step - loss: 160498.2344\n",
      "Epoch 90/100\n",
      "123/123 [==============================] - 0s 3ms/step - loss: 158022.4844\n",
      "Epoch 91/100\n",
      "123/123 [==============================] - 0s 3ms/step - loss: 158703.9219\n",
      "Epoch 92/100\n",
      "123/123 [==============================] - 0s 3ms/step - loss: 158500.5000\n",
      "Epoch 93/100\n",
      "123/123 [==============================] - 0s 3ms/step - loss: 159100.8281\n",
      "Epoch 94/100\n"
     ]
    },
    {
     "name": "stdout",
     "output_type": "stream",
     "text": [
      "123/123 [==============================] - 0s 3ms/step - loss: 158007.3594\n",
      "Epoch 95/100\n",
      "123/123 [==============================] - 0s 3ms/step - loss: 158949.9062\n",
      "Epoch 96/100\n",
      "123/123 [==============================] - 0s 3ms/step - loss: 160738.6250\n",
      "Epoch 97/100\n",
      "123/123 [==============================] - 0s 3ms/step - loss: 158021.7969\n",
      "Epoch 98/100\n",
      "123/123 [==============================] - 0s 3ms/step - loss: 157618.1562\n",
      "Epoch 99/100\n",
      "123/123 [==============================] - 0s 3ms/step - loss: 157259.2344\n",
      "Epoch 100/100\n",
      "123/123 [==============================] - 0s 3ms/step - loss: 158002.2500\n"
     ]
    },
    {
     "data": {
      "text/plain": [
       "<keras.callbacks.History at 0x27b4ffad300>"
      ]
     },
     "execution_count": 17,
     "metadata": {},
     "output_type": "execute_result"
    }
   ],
   "source": [
    "# Create a model that include the normalization layer\n",
    "model = tf.keras.Sequential([\n",
    "    layers.Input(shape = 6),\n",
    "    layers.Normalization(),   \n",
    "    layers.Dense(256, activation='relu'),\n",
    "    layers.Dense(256, activation='relu'),\n",
    "    layers.Dense(256, activation='relu'),\n",
    "    layers.Dense(128, activation='relu'),\n",
    "    layers.Dense(128, activation='relu'),\n",
    "    layers.Dense(128, activation='relu'),\n",
    "    layers.Dense(64, activation='relu'),\n",
    "    layers.Dense(64, activation='relu'),\n",
    "    layers.Dense(1)\n",
    "  ])\n",
    "\n",
    "model.compile(loss='mae',\n",
    "                optimizer=\"adam\")\n",
    "model.fit(X_train, y_train, epochs = 100)"
   ]
  },
  {
   "cell_type": "code",
   "execution_count": 18,
   "id": "86674a5b",
   "metadata": {},
   "outputs": [
    {
     "name": "stdout",
     "output_type": "stream",
     "text": [
      "14/14 [==============================] - 0s 2ms/step - loss: 160058.0156\n"
     ]
    },
    {
     "data": {
      "text/plain": [
       "160058.015625"
      ]
     },
     "execution_count": 18,
     "metadata": {},
     "output_type": "execute_result"
    }
   ],
   "source": [
    "model.evaluate(X_test, y_test)"
   ]
  }
 ],
 "metadata": {
  "kernelspec": {
   "display_name": "Python 3 (ipykernel)",
   "language": "python",
   "name": "python3"
  },
  "language_info": {
   "codemirror_mode": {
    "name": "ipython",
    "version": 3
   },
   "file_extension": ".py",
   "mimetype": "text/x-python",
   "name": "python",
   "nbconvert_exporter": "python",
   "pygments_lexer": "ipython3",
   "version": "3.10.13"
  }
 },
 "nbformat": 4,
 "nbformat_minor": 5
}
