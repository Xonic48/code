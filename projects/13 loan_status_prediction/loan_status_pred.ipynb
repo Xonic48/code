{
 "cells": [
  {
   "cell_type": "code",
   "execution_count": 1,
   "id": "adab188b",
   "metadata": {},
   "outputs": [],
   "source": [
    "import numpy as np\n",
    "import pandas as pd\n",
    "\n",
    "from sklearn.model_selection import train_test_split\n",
    "from sklearn.svm import SVC\n",
    "from sklearn.metrics import accuracy_score"
   ]
  },
  {
   "cell_type": "code",
   "execution_count": 2,
   "id": "0fbc8feb",
   "metadata": {},
   "outputs": [
    {
     "data": {
      "text/html": [
       "<div>\n",
       "<style scoped>\n",
       "    .dataframe tbody tr th:only-of-type {\n",
       "        vertical-align: middle;\n",
       "    }\n",
       "\n",
       "    .dataframe tbody tr th {\n",
       "        vertical-align: top;\n",
       "    }\n",
       "\n",
       "    .dataframe thead th {\n",
       "        text-align: right;\n",
       "    }\n",
       "</style>\n",
       "<table border=\"1\" class=\"dataframe\">\n",
       "  <thead>\n",
       "    <tr style=\"text-align: right;\">\n",
       "      <th></th>\n",
       "      <th>Loan_ID</th>\n",
       "      <th>Gender</th>\n",
       "      <th>Married</th>\n",
       "      <th>Dependents</th>\n",
       "      <th>Education</th>\n",
       "      <th>Self_Employed</th>\n",
       "      <th>ApplicantIncome</th>\n",
       "      <th>CoapplicantIncome</th>\n",
       "      <th>LoanAmount</th>\n",
       "      <th>Loan_Amount_Term</th>\n",
       "      <th>Credit_History</th>\n",
       "      <th>Property_Area</th>\n",
       "      <th>Loan_Status</th>\n",
       "    </tr>\n",
       "  </thead>\n",
       "  <tbody>\n",
       "    <tr>\n",
       "      <th>0</th>\n",
       "      <td>LP001002</td>\n",
       "      <td>Male</td>\n",
       "      <td>No</td>\n",
       "      <td>0</td>\n",
       "      <td>Graduate</td>\n",
       "      <td>No</td>\n",
       "      <td>5849</td>\n",
       "      <td>0.0</td>\n",
       "      <td>NaN</td>\n",
       "      <td>360.0</td>\n",
       "      <td>1.0</td>\n",
       "      <td>Urban</td>\n",
       "      <td>Y</td>\n",
       "    </tr>\n",
       "    <tr>\n",
       "      <th>1</th>\n",
       "      <td>LP001003</td>\n",
       "      <td>Male</td>\n",
       "      <td>Yes</td>\n",
       "      <td>1</td>\n",
       "      <td>Graduate</td>\n",
       "      <td>No</td>\n",
       "      <td>4583</td>\n",
       "      <td>1508.0</td>\n",
       "      <td>128.0</td>\n",
       "      <td>360.0</td>\n",
       "      <td>1.0</td>\n",
       "      <td>Rural</td>\n",
       "      <td>N</td>\n",
       "    </tr>\n",
       "    <tr>\n",
       "      <th>2</th>\n",
       "      <td>LP001005</td>\n",
       "      <td>Male</td>\n",
       "      <td>Yes</td>\n",
       "      <td>0</td>\n",
       "      <td>Graduate</td>\n",
       "      <td>Yes</td>\n",
       "      <td>3000</td>\n",
       "      <td>0.0</td>\n",
       "      <td>66.0</td>\n",
       "      <td>360.0</td>\n",
       "      <td>1.0</td>\n",
       "      <td>Urban</td>\n",
       "      <td>Y</td>\n",
       "    </tr>\n",
       "    <tr>\n",
       "      <th>3</th>\n",
       "      <td>LP001006</td>\n",
       "      <td>Male</td>\n",
       "      <td>Yes</td>\n",
       "      <td>0</td>\n",
       "      <td>Not Graduate</td>\n",
       "      <td>No</td>\n",
       "      <td>2583</td>\n",
       "      <td>2358.0</td>\n",
       "      <td>120.0</td>\n",
       "      <td>360.0</td>\n",
       "      <td>1.0</td>\n",
       "      <td>Urban</td>\n",
       "      <td>Y</td>\n",
       "    </tr>\n",
       "    <tr>\n",
       "      <th>4</th>\n",
       "      <td>LP001008</td>\n",
       "      <td>Male</td>\n",
       "      <td>No</td>\n",
       "      <td>0</td>\n",
       "      <td>Graduate</td>\n",
       "      <td>No</td>\n",
       "      <td>6000</td>\n",
       "      <td>0.0</td>\n",
       "      <td>141.0</td>\n",
       "      <td>360.0</td>\n",
       "      <td>1.0</td>\n",
       "      <td>Urban</td>\n",
       "      <td>Y</td>\n",
       "    </tr>\n",
       "  </tbody>\n",
       "</table>\n",
       "</div>"
      ],
      "text/plain": [
       "    Loan_ID Gender Married Dependents     Education Self_Employed  \\\n",
       "0  LP001002   Male      No          0      Graduate            No   \n",
       "1  LP001003   Male     Yes          1      Graduate            No   \n",
       "2  LP001005   Male     Yes          0      Graduate           Yes   \n",
       "3  LP001006   Male     Yes          0  Not Graduate            No   \n",
       "4  LP001008   Male      No          0      Graduate            No   \n",
       "\n",
       "   ApplicantIncome  CoapplicantIncome  LoanAmount  Loan_Amount_Term  \\\n",
       "0             5849                0.0         NaN             360.0   \n",
       "1             4583             1508.0       128.0             360.0   \n",
       "2             3000                0.0        66.0             360.0   \n",
       "3             2583             2358.0       120.0             360.0   \n",
       "4             6000                0.0       141.0             360.0   \n",
       "\n",
       "   Credit_History Property_Area Loan_Status  \n",
       "0             1.0         Urban           Y  \n",
       "1             1.0         Rural           N  \n",
       "2             1.0         Urban           Y  \n",
       "3             1.0         Urban           Y  \n",
       "4             1.0         Urban           Y  "
      ]
     },
     "execution_count": 2,
     "metadata": {},
     "output_type": "execute_result"
    }
   ],
   "source": [
    "df = pd.read_csv('train.csv')\n",
    "df.head()"
   ]
  },
  {
   "cell_type": "code",
   "execution_count": 3,
   "id": "ab626c50",
   "metadata": {},
   "outputs": [
    {
     "data": {
      "text/plain": [
       "(614, 13)"
      ]
     },
     "execution_count": 3,
     "metadata": {},
     "output_type": "execute_result"
    }
   ],
   "source": [
    "df.shape"
   ]
  },
  {
   "cell_type": "code",
   "execution_count": 4,
   "id": "e1d288b8",
   "metadata": {},
   "outputs": [
    {
     "data": {
      "text/html": [
       "<div>\n",
       "<style scoped>\n",
       "    .dataframe tbody tr th:only-of-type {\n",
       "        vertical-align: middle;\n",
       "    }\n",
       "\n",
       "    .dataframe tbody tr th {\n",
       "        vertical-align: top;\n",
       "    }\n",
       "\n",
       "    .dataframe thead th {\n",
       "        text-align: right;\n",
       "    }\n",
       "</style>\n",
       "<table border=\"1\" class=\"dataframe\">\n",
       "  <thead>\n",
       "    <tr style=\"text-align: right;\">\n",
       "      <th></th>\n",
       "      <th>ApplicantIncome</th>\n",
       "      <th>CoapplicantIncome</th>\n",
       "      <th>LoanAmount</th>\n",
       "      <th>Loan_Amount_Term</th>\n",
       "      <th>Credit_History</th>\n",
       "    </tr>\n",
       "  </thead>\n",
       "  <tbody>\n",
       "    <tr>\n",
       "      <th>count</th>\n",
       "      <td>614.000000</td>\n",
       "      <td>614.000000</td>\n",
       "      <td>592.000000</td>\n",
       "      <td>600.00000</td>\n",
       "      <td>564.000000</td>\n",
       "    </tr>\n",
       "    <tr>\n",
       "      <th>mean</th>\n",
       "      <td>5403.459283</td>\n",
       "      <td>1621.245798</td>\n",
       "      <td>146.412162</td>\n",
       "      <td>342.00000</td>\n",
       "      <td>0.842199</td>\n",
       "    </tr>\n",
       "    <tr>\n",
       "      <th>std</th>\n",
       "      <td>6109.041673</td>\n",
       "      <td>2926.248369</td>\n",
       "      <td>85.587325</td>\n",
       "      <td>65.12041</td>\n",
       "      <td>0.364878</td>\n",
       "    </tr>\n",
       "    <tr>\n",
       "      <th>min</th>\n",
       "      <td>150.000000</td>\n",
       "      <td>0.000000</td>\n",
       "      <td>9.000000</td>\n",
       "      <td>12.00000</td>\n",
       "      <td>0.000000</td>\n",
       "    </tr>\n",
       "    <tr>\n",
       "      <th>25%</th>\n",
       "      <td>2877.500000</td>\n",
       "      <td>0.000000</td>\n",
       "      <td>100.000000</td>\n",
       "      <td>360.00000</td>\n",
       "      <td>1.000000</td>\n",
       "    </tr>\n",
       "    <tr>\n",
       "      <th>50%</th>\n",
       "      <td>3812.500000</td>\n",
       "      <td>1188.500000</td>\n",
       "      <td>128.000000</td>\n",
       "      <td>360.00000</td>\n",
       "      <td>1.000000</td>\n",
       "    </tr>\n",
       "    <tr>\n",
       "      <th>75%</th>\n",
       "      <td>5795.000000</td>\n",
       "      <td>2297.250000</td>\n",
       "      <td>168.000000</td>\n",
       "      <td>360.00000</td>\n",
       "      <td>1.000000</td>\n",
       "    </tr>\n",
       "    <tr>\n",
       "      <th>max</th>\n",
       "      <td>81000.000000</td>\n",
       "      <td>41667.000000</td>\n",
       "      <td>700.000000</td>\n",
       "      <td>480.00000</td>\n",
       "      <td>1.000000</td>\n",
       "    </tr>\n",
       "  </tbody>\n",
       "</table>\n",
       "</div>"
      ],
      "text/plain": [
       "       ApplicantIncome  CoapplicantIncome  LoanAmount  Loan_Amount_Term  \\\n",
       "count       614.000000         614.000000  592.000000         600.00000   \n",
       "mean       5403.459283        1621.245798  146.412162         342.00000   \n",
       "std        6109.041673        2926.248369   85.587325          65.12041   \n",
       "min         150.000000           0.000000    9.000000          12.00000   \n",
       "25%        2877.500000           0.000000  100.000000         360.00000   \n",
       "50%        3812.500000        1188.500000  128.000000         360.00000   \n",
       "75%        5795.000000        2297.250000  168.000000         360.00000   \n",
       "max       81000.000000       41667.000000  700.000000         480.00000   \n",
       "\n",
       "       Credit_History  \n",
       "count      564.000000  \n",
       "mean         0.842199  \n",
       "std          0.364878  \n",
       "min          0.000000  \n",
       "25%          1.000000  \n",
       "50%          1.000000  \n",
       "75%          1.000000  \n",
       "max          1.000000  "
      ]
     },
     "execution_count": 4,
     "metadata": {},
     "output_type": "execute_result"
    }
   ],
   "source": [
    "df.describe()"
   ]
  },
  {
   "cell_type": "code",
   "execution_count": 5,
   "id": "0e9408f2",
   "metadata": {
    "scrolled": true
   },
   "outputs": [
    {
     "data": {
      "text/plain": [
       "Loan_ID               0\n",
       "Gender               13\n",
       "Married               3\n",
       "Dependents           15\n",
       "Education             0\n",
       "Self_Employed        32\n",
       "ApplicantIncome       0\n",
       "CoapplicantIncome     0\n",
       "LoanAmount           22\n",
       "Loan_Amount_Term     14\n",
       "Credit_History       50\n",
       "Property_Area         0\n",
       "Loan_Status           0\n",
       "dtype: int64"
      ]
     },
     "execution_count": 5,
     "metadata": {},
     "output_type": "execute_result"
    }
   ],
   "source": [
    "df.isnull().sum()"
   ]
  },
  {
   "cell_type": "code",
   "execution_count": 6,
   "id": "feb8d486",
   "metadata": {},
   "outputs": [
    {
     "data": {
      "text/plain": [
       "{'Gender': array(['Male', 'Female', nan], dtype=object),\n",
       " 'Married': array(['No', 'Yes', nan], dtype=object),\n",
       " 'Dependents': array(['0', '1', '2', '3+', nan], dtype=object),\n",
       " 'Education': array(['Graduate', 'Not Graduate'], dtype=object),\n",
       " 'Self_Employed': array(['No', 'Yes', nan], dtype=object),\n",
       " 'Property_Area': array(['Urban', 'Rural', 'Semiurban'], dtype=object),\n",
       " 'Loan_Status': array(['Y', 'N'], dtype=object)}"
      ]
     },
     "execution_count": 6,
     "metadata": {},
     "output_type": "execute_result"
    }
   ],
   "source": [
    "column = ['Gender', 'Married', 'Dependents', 'Education',\n",
    "       'Self_Employed', 'Property_Area', 'Loan_Status']\n",
    "values = {}\n",
    "for col in column:\n",
    "    values[col] = df[col].unique()\n",
    "values"
   ]
  },
  {
   "cell_type": "code",
   "execution_count": 7,
   "id": "803c0362",
   "metadata": {},
   "outputs": [],
   "source": [
    "for key, value in values.items():\n",
    "    m=0\n",
    "    df[key].fillna(df[key].mode()[0], inplace=True)\n",
    "    value = list(value)\n",
    "    for i in value:\n",
    "        df.replace({key:{i: m}}, inplace = True)\n",
    "        m += 1"
   ]
  },
  {
   "cell_type": "code",
   "execution_count": 8,
   "id": "cc46a596",
   "metadata": {
    "scrolled": false
   },
   "outputs": [
    {
     "data": {
      "text/plain": [
       "{'Gender': array([0, 1], dtype=int64),\n",
       " 'Married': array([0, 1], dtype=int64),\n",
       " 'Dependents': array([0, 1, 2, 3], dtype=int64),\n",
       " 'Education': array([0, 1], dtype=int64),\n",
       " 'Self_Employed': array([0, 1], dtype=int64),\n",
       " 'Property_Area': array([0, 1, 2], dtype=int64),\n",
       " 'Loan_Status': array([0, 1], dtype=int64)}"
      ]
     },
     "execution_count": 8,
     "metadata": {},
     "output_type": "execute_result"
    }
   ],
   "source": [
    "column = ['Gender', 'Married', 'Dependents', 'Education',\n",
    "       'Self_Employed', 'Property_Area', 'Loan_Status']\n",
    "values = {}\n",
    "for col in column:\n",
    "    values[col] = df[col].unique()\n",
    "values"
   ]
  },
  {
   "cell_type": "code",
   "execution_count": 9,
   "id": "1d1a5f40",
   "metadata": {
    "scrolled": true
   },
   "outputs": [
    {
     "data": {
      "text/plain": [
       "Loan_ID               0\n",
       "Gender                0\n",
       "Married               0\n",
       "Dependents            0\n",
       "Education             0\n",
       "Self_Employed         0\n",
       "ApplicantIncome       0\n",
       "CoapplicantIncome     0\n",
       "LoanAmount           22\n",
       "Loan_Amount_Term     14\n",
       "Credit_History       50\n",
       "Property_Area         0\n",
       "Loan_Status           0\n",
       "dtype: int64"
      ]
     },
     "execution_count": 9,
     "metadata": {},
     "output_type": "execute_result"
    }
   ],
   "source": [
    "df.isnull().sum()"
   ]
  },
  {
   "cell_type": "code",
   "execution_count": 10,
   "id": "8a959c9f",
   "metadata": {},
   "outputs": [],
   "source": [
    "df[\"Credit_History\"].fillna(df[\"Credit_History\"].mode(), inplace = True)"
   ]
  },
  {
   "cell_type": "code",
   "execution_count": 11,
   "id": "d6f2397a",
   "metadata": {},
   "outputs": [
    {
     "data": {
      "text/plain": [
       "(614, 13)"
      ]
     },
     "execution_count": 11,
     "metadata": {},
     "output_type": "execute_result"
    }
   ],
   "source": [
    "df.shape"
   ]
  },
  {
   "cell_type": "code",
   "execution_count": 12,
   "id": "1021c585",
   "metadata": {},
   "outputs": [],
   "source": [
    "df.dropna(inplace = True)"
   ]
  },
  {
   "cell_type": "code",
   "execution_count": 13,
   "id": "75e0c322",
   "metadata": {},
   "outputs": [
    {
     "name": "stdout",
     "output_type": "stream",
     "text": [
      "<class 'pandas.core.frame.DataFrame'>\n",
      "Index: 529 entries, 1 to 613\n",
      "Data columns (total 13 columns):\n",
      " #   Column             Non-Null Count  Dtype  \n",
      "---  ------             --------------  -----  \n",
      " 0   Loan_ID            529 non-null    object \n",
      " 1   Gender             529 non-null    int64  \n",
      " 2   Married            529 non-null    int64  \n",
      " 3   Dependents         529 non-null    int64  \n",
      " 4   Education          529 non-null    int64  \n",
      " 5   Self_Employed      529 non-null    int64  \n",
      " 6   ApplicantIncome    529 non-null    int64  \n",
      " 7   CoapplicantIncome  529 non-null    float64\n",
      " 8   LoanAmount         529 non-null    float64\n",
      " 9   Loan_Amount_Term   529 non-null    float64\n",
      " 10  Credit_History     529 non-null    float64\n",
      " 11  Property_Area      529 non-null    int64  \n",
      " 12  Loan_Status        529 non-null    int64  \n",
      "dtypes: float64(4), int64(8), object(1)\n",
      "memory usage: 57.9+ KB\n"
     ]
    }
   ],
   "source": [
    "df.info()"
   ]
  },
  {
   "cell_type": "code",
   "execution_count": 14,
   "id": "89bf4d0e",
   "metadata": {},
   "outputs": [
    {
     "data": {
      "text/html": [
       "<div>\n",
       "<style scoped>\n",
       "    .dataframe tbody tr th:only-of-type {\n",
       "        vertical-align: middle;\n",
       "    }\n",
       "\n",
       "    .dataframe tbody tr th {\n",
       "        vertical-align: top;\n",
       "    }\n",
       "\n",
       "    .dataframe thead th {\n",
       "        text-align: right;\n",
       "    }\n",
       "</style>\n",
       "<table border=\"1\" class=\"dataframe\">\n",
       "  <thead>\n",
       "    <tr style=\"text-align: right;\">\n",
       "      <th></th>\n",
       "      <th>Loan_ID</th>\n",
       "      <th>Gender</th>\n",
       "      <th>Married</th>\n",
       "      <th>Dependents</th>\n",
       "      <th>Education</th>\n",
       "      <th>Self_Employed</th>\n",
       "      <th>ApplicantIncome</th>\n",
       "      <th>CoapplicantIncome</th>\n",
       "      <th>LoanAmount</th>\n",
       "      <th>Loan_Amount_Term</th>\n",
       "      <th>Credit_History</th>\n",
       "      <th>Property_Area</th>\n",
       "      <th>Loan_Status</th>\n",
       "    </tr>\n",
       "  </thead>\n",
       "  <tbody>\n",
       "    <tr>\n",
       "      <th>1</th>\n",
       "      <td>LP001003</td>\n",
       "      <td>0</td>\n",
       "      <td>1</td>\n",
       "      <td>1</td>\n",
       "      <td>0</td>\n",
       "      <td>0</td>\n",
       "      <td>4583</td>\n",
       "      <td>1508.0</td>\n",
       "      <td>128.0</td>\n",
       "      <td>360.0</td>\n",
       "      <td>1.0</td>\n",
       "      <td>1</td>\n",
       "      <td>1</td>\n",
       "    </tr>\n",
       "    <tr>\n",
       "      <th>2</th>\n",
       "      <td>LP001005</td>\n",
       "      <td>0</td>\n",
       "      <td>1</td>\n",
       "      <td>0</td>\n",
       "      <td>0</td>\n",
       "      <td>1</td>\n",
       "      <td>3000</td>\n",
       "      <td>0.0</td>\n",
       "      <td>66.0</td>\n",
       "      <td>360.0</td>\n",
       "      <td>1.0</td>\n",
       "      <td>0</td>\n",
       "      <td>0</td>\n",
       "    </tr>\n",
       "    <tr>\n",
       "      <th>3</th>\n",
       "      <td>LP001006</td>\n",
       "      <td>0</td>\n",
       "      <td>1</td>\n",
       "      <td>0</td>\n",
       "      <td>1</td>\n",
       "      <td>0</td>\n",
       "      <td>2583</td>\n",
       "      <td>2358.0</td>\n",
       "      <td>120.0</td>\n",
       "      <td>360.0</td>\n",
       "      <td>1.0</td>\n",
       "      <td>0</td>\n",
       "      <td>0</td>\n",
       "    </tr>\n",
       "    <tr>\n",
       "      <th>4</th>\n",
       "      <td>LP001008</td>\n",
       "      <td>0</td>\n",
       "      <td>0</td>\n",
       "      <td>0</td>\n",
       "      <td>0</td>\n",
       "      <td>0</td>\n",
       "      <td>6000</td>\n",
       "      <td>0.0</td>\n",
       "      <td>141.0</td>\n",
       "      <td>360.0</td>\n",
       "      <td>1.0</td>\n",
       "      <td>0</td>\n",
       "      <td>0</td>\n",
       "    </tr>\n",
       "    <tr>\n",
       "      <th>5</th>\n",
       "      <td>LP001011</td>\n",
       "      <td>0</td>\n",
       "      <td>1</td>\n",
       "      <td>2</td>\n",
       "      <td>0</td>\n",
       "      <td>1</td>\n",
       "      <td>5417</td>\n",
       "      <td>4196.0</td>\n",
       "      <td>267.0</td>\n",
       "      <td>360.0</td>\n",
       "      <td>1.0</td>\n",
       "      <td>0</td>\n",
       "      <td>0</td>\n",
       "    </tr>\n",
       "  </tbody>\n",
       "</table>\n",
       "</div>"
      ],
      "text/plain": [
       "    Loan_ID  Gender  Married  Dependents  Education  Self_Employed  \\\n",
       "1  LP001003       0        1           1          0              0   \n",
       "2  LP001005       0        1           0          0              1   \n",
       "3  LP001006       0        1           0          1              0   \n",
       "4  LP001008       0        0           0          0              0   \n",
       "5  LP001011       0        1           2          0              1   \n",
       "\n",
       "   ApplicantIncome  CoapplicantIncome  LoanAmount  Loan_Amount_Term  \\\n",
       "1             4583             1508.0       128.0             360.0   \n",
       "2             3000                0.0        66.0             360.0   \n",
       "3             2583             2358.0       120.0             360.0   \n",
       "4             6000                0.0       141.0             360.0   \n",
       "5             5417             4196.0       267.0             360.0   \n",
       "\n",
       "   Credit_History  Property_Area  Loan_Status  \n",
       "1             1.0              1            1  \n",
       "2             1.0              0            0  \n",
       "3             1.0              0            0  \n",
       "4             1.0              0            0  \n",
       "5             1.0              0            0  "
      ]
     },
     "execution_count": 14,
     "metadata": {},
     "output_type": "execute_result"
    }
   ],
   "source": [
    "df.head()"
   ]
  },
  {
   "cell_type": "code",
   "execution_count": 15,
   "id": "88cea296",
   "metadata": {},
   "outputs": [],
   "source": [
    "X_train, X_test, y_train, y_test = train_test_split(df.drop(columns = ['Loan_ID','Loan_Status'], axis = 1), df.Loan_Status,test_size = 0.1,stratify = df.Loan_Status, random_state = 2023)"
   ]
  },
  {
   "cell_type": "markdown",
   "id": "7cae8a6f",
   "metadata": {},
   "source": [
    "## Using Sklearn"
   ]
  },
  {
   "cell_type": "code",
   "execution_count": 16,
   "id": "91fdf981",
   "metadata": {},
   "outputs": [],
   "source": [
    "classifier = SVC(kernel = 'linear').fit(X_train, y_train)"
   ]
  },
  {
   "cell_type": "code",
   "execution_count": 17,
   "id": "00867291",
   "metadata": {},
   "outputs": [
    {
     "name": "stdout",
     "output_type": "stream",
     "text": [
      "Accuracy score on train data: 0.7857142857142857\n"
     ]
    }
   ],
   "source": [
    "print('Accuracy score on train data:', accuracy_score(classifier.predict(X_train), y_train))"
   ]
  },
  {
   "cell_type": "code",
   "execution_count": 18,
   "id": "6d1d1ed4",
   "metadata": {},
   "outputs": [
    {
     "name": "stdout",
     "output_type": "stream",
     "text": [
      "Accuracy score on test data: 0.8113207547169812\n"
     ]
    }
   ],
   "source": [
    "print('Accuracy score on test data:', accuracy_score(classifier.predict(X_test), y_test))"
   ]
  },
  {
   "cell_type": "markdown",
   "id": "8d69cccf",
   "metadata": {},
   "source": [
    "## Using tensorflow"
   ]
  },
  {
   "cell_type": "code",
   "execution_count": 19,
   "id": "2c4c155e",
   "metadata": {},
   "outputs": [],
   "source": [
    "import tensorflow as tf\n",
    "import keras\n",
    "from keras import layers"
   ]
  },
  {
   "cell_type": "code",
   "execution_count": 20,
   "id": "aa6bfd84",
   "metadata": {
    "scrolled": true
   },
   "outputs": [
    {
     "name": "stdout",
     "output_type": "stream",
     "text": [
      "Epoch 1/50\n",
      "15/15 [==============================] - 1s 3ms/step - loss: 0.6612 - accuracy: 0.6239\n",
      "Epoch 2/50\n",
      "15/15 [==============================] - 0s 3ms/step - loss: 0.5864 - accuracy: 0.7983\n",
      "Epoch 3/50\n",
      "15/15 [==============================] - 0s 3ms/step - loss: 0.5439 - accuracy: 0.8172\n",
      "Epoch 4/50\n",
      "15/15 [==============================] - 0s 2ms/step - loss: 0.5143 - accuracy: 0.8193\n",
      "Epoch 5/50\n",
      "15/15 [==============================] - 0s 2ms/step - loss: 0.4931 - accuracy: 0.8193\n",
      "Epoch 6/50\n",
      "15/15 [==============================] - 0s 3ms/step - loss: 0.4768 - accuracy: 0.8193\n",
      "Epoch 7/50\n",
      "15/15 [==============================] - 0s 3ms/step - loss: 0.4654 - accuracy: 0.8193\n",
      "Epoch 8/50\n",
      "15/15 [==============================] - 0s 3ms/step - loss: 0.4577 - accuracy: 0.8193\n",
      "Epoch 9/50\n",
      "15/15 [==============================] - 0s 3ms/step - loss: 0.4507 - accuracy: 0.8193\n",
      "Epoch 10/50\n",
      "15/15 [==============================] - 0s 3ms/step - loss: 0.4454 - accuracy: 0.8193\n",
      "Epoch 11/50\n",
      "15/15 [==============================] - 0s 3ms/step - loss: 0.4417 - accuracy: 0.8193\n",
      "Epoch 12/50\n",
      "15/15 [==============================] - 0s 2ms/step - loss: 0.4384 - accuracy: 0.8193\n",
      "Epoch 13/50\n",
      "15/15 [==============================] - 0s 3ms/step - loss: 0.4357 - accuracy: 0.8193\n",
      "Epoch 14/50\n",
      "15/15 [==============================] - 0s 2ms/step - loss: 0.4335 - accuracy: 0.8193\n",
      "Epoch 15/50\n",
      "15/15 [==============================] - 0s 3ms/step - loss: 0.4310 - accuracy: 0.8193\n",
      "Epoch 16/50\n",
      "15/15 [==============================] - 0s 2ms/step - loss: 0.4287 - accuracy: 0.8193\n",
      "Epoch 17/50\n",
      "15/15 [==============================] - 0s 3ms/step - loss: 0.4267 - accuracy: 0.8193\n",
      "Epoch 18/50\n",
      "15/15 [==============================] - 0s 3ms/step - loss: 0.4250 - accuracy: 0.8193\n",
      "Epoch 19/50\n",
      "15/15 [==============================] - 0s 2ms/step - loss: 0.4238 - accuracy: 0.8193\n",
      "Epoch 20/50\n",
      "15/15 [==============================] - 0s 2ms/step - loss: 0.4215 - accuracy: 0.8214\n",
      "Epoch 21/50\n",
      "15/15 [==============================] - 0s 2ms/step - loss: 0.4197 - accuracy: 0.8214\n",
      "Epoch 22/50\n",
      "15/15 [==============================] - 0s 2ms/step - loss: 0.4181 - accuracy: 0.8256\n",
      "Epoch 23/50\n",
      "15/15 [==============================] - 0s 2ms/step - loss: 0.4168 - accuracy: 0.8256\n",
      "Epoch 24/50\n",
      "15/15 [==============================] - 0s 3ms/step - loss: 0.4154 - accuracy: 0.8256\n",
      "Epoch 25/50\n",
      "15/15 [==============================] - 0s 3ms/step - loss: 0.4142 - accuracy: 0.8277\n",
      "Epoch 26/50\n",
      "15/15 [==============================] - 0s 2ms/step - loss: 0.4122 - accuracy: 0.8277\n",
      "Epoch 27/50\n",
      "15/15 [==============================] - 0s 2ms/step - loss: 0.4107 - accuracy: 0.8277\n",
      "Epoch 28/50\n",
      "15/15 [==============================] - 0s 2ms/step - loss: 0.4090 - accuracy: 0.8277\n",
      "Epoch 29/50\n",
      "15/15 [==============================] - 0s 3ms/step - loss: 0.4078 - accuracy: 0.8277\n",
      "Epoch 30/50\n",
      "15/15 [==============================] - 0s 2ms/step - loss: 0.4070 - accuracy: 0.8277\n",
      "Epoch 31/50\n",
      "15/15 [==============================] - 0s 3ms/step - loss: 0.4052 - accuracy: 0.8277\n",
      "Epoch 32/50\n",
      "15/15 [==============================] - 0s 3ms/step - loss: 0.4039 - accuracy: 0.8277\n",
      "Epoch 33/50\n",
      "15/15 [==============================] - 0s 3ms/step - loss: 0.4025 - accuracy: 0.8277\n",
      "Epoch 34/50\n",
      "15/15 [==============================] - 0s 3ms/step - loss: 0.4016 - accuracy: 0.8277\n",
      "Epoch 35/50\n",
      "15/15 [==============================] - 0s 3ms/step - loss: 0.4001 - accuracy: 0.8298\n",
      "Epoch 36/50\n",
      "15/15 [==============================] - 0s 2ms/step - loss: 0.3985 - accuracy: 0.8319\n",
      "Epoch 37/50\n",
      "15/15 [==============================] - 0s 2ms/step - loss: 0.3970 - accuracy: 0.8319\n",
      "Epoch 38/50\n",
      "15/15 [==============================] - 0s 3ms/step - loss: 0.3962 - accuracy: 0.8340\n",
      "Epoch 39/50\n",
      "15/15 [==============================] - 0s 2ms/step - loss: 0.3946 - accuracy: 0.8340\n",
      "Epoch 40/50\n",
      "15/15 [==============================] - 0s 2ms/step - loss: 0.3943 - accuracy: 0.8382\n",
      "Epoch 41/50\n",
      "15/15 [==============================] - 0s 2ms/step - loss: 0.3918 - accuracy: 0.8361\n",
      "Epoch 42/50\n",
      "15/15 [==============================] - 0s 3ms/step - loss: 0.3905 - accuracy: 0.8382\n",
      "Epoch 43/50\n",
      "15/15 [==============================] - 0s 2ms/step - loss: 0.3885 - accuracy: 0.8382\n",
      "Epoch 44/50\n",
      "15/15 [==============================] - 0s 2ms/step - loss: 0.3876 - accuracy: 0.8382\n",
      "Epoch 45/50\n",
      "15/15 [==============================] - 0s 2ms/step - loss: 0.3867 - accuracy: 0.8382\n",
      "Epoch 46/50\n",
      "15/15 [==============================] - 0s 3ms/step - loss: 0.3859 - accuracy: 0.8382\n",
      "Epoch 47/50\n",
      "15/15 [==============================] - 0s 3ms/step - loss: 0.3841 - accuracy: 0.8424\n",
      "Epoch 48/50\n",
      "15/15 [==============================] - 0s 3ms/step - loss: 0.3834 - accuracy: 0.8424\n",
      "Epoch 49/50\n",
      "15/15 [==============================] - 0s 3ms/step - loss: 0.3815 - accuracy: 0.8361\n",
      "Epoch 50/50\n",
      "15/15 [==============================] - 0s 3ms/step - loss: 0.3809 - accuracy: 0.8403\n"
     ]
    },
    {
     "data": {
      "text/plain": [
       "<keras.callbacks.History at 0x293a16ebfa0>"
      ]
     },
     "execution_count": 20,
     "metadata": {},
     "output_type": "execute_result"
    }
   ],
   "source": [
    "normalizer = layers.Normalization()\n",
    "normalizer.adapt(X_train)\n",
    "\n",
    "# Create a model that include the normalization layer\n",
    "inputs = keras.Input(shape=11)\n",
    "x = normalizer(inputs)\n",
    "x = layers.Dense(100, activation=\"relu\")(x)\n",
    "outputs = layers.Dense(1, activation = \"sigmoid\")(x)\n",
    "model = keras.Model(inputs, outputs)\n",
    "\n",
    "\n",
    "model.compile(loss='binary_crossentropy', optimizer='adam', metrics=['accuracy'])\n",
    "model.fit(X_train, y_train, epochs=50)"
   ]
  },
  {
   "cell_type": "code",
   "execution_count": 21,
   "id": "103c4383",
   "metadata": {},
   "outputs": [
    {
     "name": "stdout",
     "output_type": "stream",
     "text": [
      "2/2 [==============================] - 0s 3ms/step - loss: 0.4147 - accuracy: 0.8302\n",
      "Accuracy: 83.02\n"
     ]
    }
   ],
   "source": [
    "loss, accuracy = model.evaluate(X_test, y_test)\n",
    "print('Accuracy: %.2f' % (accuracy*100))"
   ]
  }
 ],
 "metadata": {
  "kernelspec": {
   "display_name": "Python 3 (ipykernel)",
   "language": "python",
   "name": "python3"
  },
  "language_info": {
   "codemirror_mode": {
    "name": "ipython",
    "version": 3
   },
   "file_extension": ".py",
   "mimetype": "text/x-python",
   "name": "python",
   "nbconvert_exporter": "python",
   "pygments_lexer": "ipython3",
   "version": "3.10.13"
  }
 },
 "nbformat": 4,
 "nbformat_minor": 5
}
