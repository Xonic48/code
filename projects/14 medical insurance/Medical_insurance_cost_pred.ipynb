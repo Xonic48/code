{
 "cells": [
  {
   "cell_type": "code",
   "execution_count": 1,
   "id": "12b155f4",
   "metadata": {},
   "outputs": [],
   "source": [
    "import pandas as pd\n",
    "import matplotlib.pyplot as plt\n",
    "import seaborn as sns\n",
    "from sklearn.model_selection import train_test_split\n",
    "from sklearn.linear_model import LinearRegression\n",
    "from sklearn import metrics\n",
    "\n",
    "import warnings\n",
    "warnings.filterwarnings('ignore')"
   ]
  },
  {
   "cell_type": "code",
   "execution_count": 2,
   "id": "75558118",
   "metadata": {},
   "outputs": [
    {
     "data": {
      "text/html": [
       "<div>\n",
       "<style scoped>\n",
       "    .dataframe tbody tr th:only-of-type {\n",
       "        vertical-align: middle;\n",
       "    }\n",
       "\n",
       "    .dataframe tbody tr th {\n",
       "        vertical-align: top;\n",
       "    }\n",
       "\n",
       "    .dataframe thead th {\n",
       "        text-align: right;\n",
       "    }\n",
       "</style>\n",
       "<table border=\"1\" class=\"dataframe\">\n",
       "  <thead>\n",
       "    <tr style=\"text-align: right;\">\n",
       "      <th></th>\n",
       "      <th>age</th>\n",
       "      <th>sex</th>\n",
       "      <th>bmi</th>\n",
       "      <th>children</th>\n",
       "      <th>smoker</th>\n",
       "      <th>region</th>\n",
       "      <th>charges</th>\n",
       "    </tr>\n",
       "  </thead>\n",
       "  <tbody>\n",
       "    <tr>\n",
       "      <th>0</th>\n",
       "      <td>19</td>\n",
       "      <td>female</td>\n",
       "      <td>27.900</td>\n",
       "      <td>0</td>\n",
       "      <td>yes</td>\n",
       "      <td>southwest</td>\n",
       "      <td>16884.92400</td>\n",
       "    </tr>\n",
       "    <tr>\n",
       "      <th>1</th>\n",
       "      <td>18</td>\n",
       "      <td>male</td>\n",
       "      <td>33.770</td>\n",
       "      <td>1</td>\n",
       "      <td>no</td>\n",
       "      <td>southeast</td>\n",
       "      <td>1725.55230</td>\n",
       "    </tr>\n",
       "    <tr>\n",
       "      <th>2</th>\n",
       "      <td>28</td>\n",
       "      <td>male</td>\n",
       "      <td>33.000</td>\n",
       "      <td>3</td>\n",
       "      <td>no</td>\n",
       "      <td>southeast</td>\n",
       "      <td>4449.46200</td>\n",
       "    </tr>\n",
       "    <tr>\n",
       "      <th>3</th>\n",
       "      <td>33</td>\n",
       "      <td>male</td>\n",
       "      <td>22.705</td>\n",
       "      <td>0</td>\n",
       "      <td>no</td>\n",
       "      <td>northwest</td>\n",
       "      <td>21984.47061</td>\n",
       "    </tr>\n",
       "    <tr>\n",
       "      <th>4</th>\n",
       "      <td>32</td>\n",
       "      <td>male</td>\n",
       "      <td>28.880</td>\n",
       "      <td>0</td>\n",
       "      <td>no</td>\n",
       "      <td>northwest</td>\n",
       "      <td>3866.85520</td>\n",
       "    </tr>\n",
       "  </tbody>\n",
       "</table>\n",
       "</div>"
      ],
      "text/plain": [
       "   age     sex     bmi  children smoker     region      charges\n",
       "0   19  female  27.900         0    yes  southwest  16884.92400\n",
       "1   18    male  33.770         1     no  southeast   1725.55230\n",
       "2   28    male  33.000         3     no  southeast   4449.46200\n",
       "3   33    male  22.705         0     no  northwest  21984.47061\n",
       "4   32    male  28.880         0     no  northwest   3866.85520"
      ]
     },
     "execution_count": 2,
     "metadata": {},
     "output_type": "execute_result"
    }
   ],
   "source": [
    "df = pd.read_csv('insurance.csv')\n",
    "df.head()"
   ]
  },
  {
   "cell_type": "code",
   "execution_count": 3,
   "id": "2e377867",
   "metadata": {
    "scrolled": true
   },
   "outputs": [
    {
     "name": "stdout",
     "output_type": "stream",
     "text": [
      "<class 'pandas.core.frame.DataFrame'>\n",
      "RangeIndex: 1338 entries, 0 to 1337\n",
      "Data columns (total 7 columns):\n",
      " #   Column    Non-Null Count  Dtype  \n",
      "---  ------    --------------  -----  \n",
      " 0   age       1338 non-null   int64  \n",
      " 1   sex       1338 non-null   object \n",
      " 2   bmi       1338 non-null   float64\n",
      " 3   children  1338 non-null   int64  \n",
      " 4   smoker    1338 non-null   object \n",
      " 5   region    1338 non-null   object \n",
      " 6   charges   1338 non-null   float64\n",
      "dtypes: float64(2), int64(2), object(3)\n",
      "memory usage: 73.3+ KB\n"
     ]
    }
   ],
   "source": [
    "df.info()"
   ]
  },
  {
   "cell_type": "code",
   "execution_count": 4,
   "id": "e4554403",
   "metadata": {},
   "outputs": [
    {
     "data": {
      "text/html": [
       "<div>\n",
       "<style scoped>\n",
       "    .dataframe tbody tr th:only-of-type {\n",
       "        vertical-align: middle;\n",
       "    }\n",
       "\n",
       "    .dataframe tbody tr th {\n",
       "        vertical-align: top;\n",
       "    }\n",
       "\n",
       "    .dataframe thead th {\n",
       "        text-align: right;\n",
       "    }\n",
       "</style>\n",
       "<table border=\"1\" class=\"dataframe\">\n",
       "  <thead>\n",
       "    <tr style=\"text-align: right;\">\n",
       "      <th></th>\n",
       "      <th>count</th>\n",
       "      <th>mean</th>\n",
       "      <th>std</th>\n",
       "      <th>min</th>\n",
       "      <th>25%</th>\n",
       "      <th>50%</th>\n",
       "      <th>75%</th>\n",
       "      <th>max</th>\n",
       "    </tr>\n",
       "  </thead>\n",
       "  <tbody>\n",
       "    <tr>\n",
       "      <th>age</th>\n",
       "      <td>1338.0</td>\n",
       "      <td>39.207025</td>\n",
       "      <td>14.049960</td>\n",
       "      <td>18.0000</td>\n",
       "      <td>27.00000</td>\n",
       "      <td>39.000</td>\n",
       "      <td>51.000000</td>\n",
       "      <td>64.00000</td>\n",
       "    </tr>\n",
       "    <tr>\n",
       "      <th>bmi</th>\n",
       "      <td>1338.0</td>\n",
       "      <td>30.663397</td>\n",
       "      <td>6.098187</td>\n",
       "      <td>15.9600</td>\n",
       "      <td>26.29625</td>\n",
       "      <td>30.400</td>\n",
       "      <td>34.693750</td>\n",
       "      <td>53.13000</td>\n",
       "    </tr>\n",
       "    <tr>\n",
       "      <th>children</th>\n",
       "      <td>1338.0</td>\n",
       "      <td>1.094918</td>\n",
       "      <td>1.205493</td>\n",
       "      <td>0.0000</td>\n",
       "      <td>0.00000</td>\n",
       "      <td>1.000</td>\n",
       "      <td>2.000000</td>\n",
       "      <td>5.00000</td>\n",
       "    </tr>\n",
       "    <tr>\n",
       "      <th>charges</th>\n",
       "      <td>1338.0</td>\n",
       "      <td>13270.422265</td>\n",
       "      <td>12110.011237</td>\n",
       "      <td>1121.8739</td>\n",
       "      <td>4740.28715</td>\n",
       "      <td>9382.033</td>\n",
       "      <td>16639.912515</td>\n",
       "      <td>63770.42801</td>\n",
       "    </tr>\n",
       "  </tbody>\n",
       "</table>\n",
       "</div>"
      ],
      "text/plain": [
       "           count          mean           std        min         25%       50%  \\\n",
       "age       1338.0     39.207025     14.049960    18.0000    27.00000    39.000   \n",
       "bmi       1338.0     30.663397      6.098187    15.9600    26.29625    30.400   \n",
       "children  1338.0      1.094918      1.205493     0.0000     0.00000     1.000   \n",
       "charges   1338.0  13270.422265  12110.011237  1121.8739  4740.28715  9382.033   \n",
       "\n",
       "                   75%          max  \n",
       "age          51.000000     64.00000  \n",
       "bmi          34.693750     53.13000  \n",
       "children      2.000000      5.00000  \n",
       "charges   16639.912515  63770.42801  "
      ]
     },
     "execution_count": 4,
     "metadata": {},
     "output_type": "execute_result"
    }
   ],
   "source": [
    "df.describe().transpose()"
   ]
  },
  {
   "cell_type": "code",
   "execution_count": 5,
   "id": "4bdbe35d",
   "metadata": {
    "scrolled": false
   },
   "outputs": [
    {
     "data": {
      "text/html": [
       "<div>\n",
       "<style scoped>\n",
       "    .dataframe tbody tr th:only-of-type {\n",
       "        vertical-align: middle;\n",
       "    }\n",
       "\n",
       "    .dataframe tbody tr th {\n",
       "        vertical-align: top;\n",
       "    }\n",
       "\n",
       "    .dataframe thead th {\n",
       "        text-align: right;\n",
       "    }\n",
       "</style>\n",
       "<table border=\"1\" class=\"dataframe\">\n",
       "  <thead>\n",
       "    <tr style=\"text-align: right;\">\n",
       "      <th></th>\n",
       "      <th>age</th>\n",
       "      <th>sex</th>\n",
       "      <th>bmi</th>\n",
       "      <th>children</th>\n",
       "      <th>smoker</th>\n",
       "      <th>region</th>\n",
       "      <th>charges</th>\n",
       "    </tr>\n",
       "  </thead>\n",
       "  <tbody>\n",
       "    <tr>\n",
       "      <th>0</th>\n",
       "      <td>19</td>\n",
       "      <td>0</td>\n",
       "      <td>27.900</td>\n",
       "      <td>0</td>\n",
       "      <td>0</td>\n",
       "      <td>0</td>\n",
       "      <td>16884.92400</td>\n",
       "    </tr>\n",
       "    <tr>\n",
       "      <th>1</th>\n",
       "      <td>18</td>\n",
       "      <td>1</td>\n",
       "      <td>33.770</td>\n",
       "      <td>1</td>\n",
       "      <td>1</td>\n",
       "      <td>1</td>\n",
       "      <td>1725.55230</td>\n",
       "    </tr>\n",
       "    <tr>\n",
       "      <th>2</th>\n",
       "      <td>28</td>\n",
       "      <td>1</td>\n",
       "      <td>33.000</td>\n",
       "      <td>3</td>\n",
       "      <td>1</td>\n",
       "      <td>1</td>\n",
       "      <td>4449.46200</td>\n",
       "    </tr>\n",
       "    <tr>\n",
       "      <th>3</th>\n",
       "      <td>33</td>\n",
       "      <td>1</td>\n",
       "      <td>22.705</td>\n",
       "      <td>0</td>\n",
       "      <td>1</td>\n",
       "      <td>2</td>\n",
       "      <td>21984.47061</td>\n",
       "    </tr>\n",
       "    <tr>\n",
       "      <th>4</th>\n",
       "      <td>32</td>\n",
       "      <td>1</td>\n",
       "      <td>28.880</td>\n",
       "      <td>0</td>\n",
       "      <td>1</td>\n",
       "      <td>2</td>\n",
       "      <td>3866.85520</td>\n",
       "    </tr>\n",
       "  </tbody>\n",
       "</table>\n",
       "</div>"
      ],
      "text/plain": [
       "   age  sex     bmi  children  smoker  region      charges\n",
       "0   19    0  27.900         0       0       0  16884.92400\n",
       "1   18    1  33.770         1       1       1   1725.55230\n",
       "2   28    1  33.000         3       1       1   4449.46200\n",
       "3   33    1  22.705         0       1       2  21984.47061\n",
       "4   32    1  28.880         0       1       2   3866.85520"
      ]
     },
     "execution_count": 5,
     "metadata": {},
     "output_type": "execute_result"
    }
   ],
   "source": [
    "columns = ['sex', 'smoker', 'region']\n",
    "for column in columns:\n",
    "    values = list(df[column].unique())\n",
    "    df[column] = df[column].apply(lambda x: values.index(x))\n",
    "df.head()"
   ]
  },
  {
   "cell_type": "markdown",
   "id": "ef21d3c3",
   "metadata": {},
   "source": [
    "## Data visualizations "
   ]
  },
  {
   "cell_type": "code",
   "execution_count": 6,
   "id": "729bf338",
   "metadata": {},
   "outputs": [
    {
     "data": {
      "text/plain": [
       "<Figure size 600x600 with 0 Axes>"
      ]
     },
     "metadata": {},
     "output_type": "display_data"
    },
    {
     "data": {
      "image/png": "[encoded data removed]",
      "text/plain": [
       "<Figure size 500x500 with 1 Axes>"
      ]
     },
     "metadata": {},
     "output_type": "display_data"
    }
   ],
   "source": [
    "# distribution of age value\n",
    "plt.figure(figsize=(6,6))\n",
    "sns.displot(df['age'])\n",
    "plt.title('Age distribution')\n",
    "plt.show()"
   ]
  },
  {
   "cell_type": "code",
   "execution_count": 7,
   "id": "963d20bc",
   "metadata": {},
   "outputs": [
    {
     "data": {
      "image/png": "[encoded data removed]",
      "text/plain": [
       "<Figure size 600x600 with 1 Axes>"
      ]
     },
     "metadata": {},
     "output_type": "display_data"
    }
   ],
   "source": [
    "# distribution of gender value\n",
    "plt.figure(figsize=(6,6))\n",
    "sns.countplot(x='sex', data = df)\n",
    "plt.title('Gender distribution')\n",
    "plt.show()"
   ]
  },
  {
   "cell_type": "code",
   "execution_count": 8,
   "id": "2eb659f9",
   "metadata": {},
   "outputs": [
    {
     "data": {
      "text/plain": [
       "sex\n",
       "1    676\n",
       "0    662\n",
       "Name: count, dtype: int64"
      ]
     },
     "execution_count": 8,
     "metadata": {},
     "output_type": "execute_result"
    }
   ],
   "source": [
    "df.sex.value_counts()"
   ]
  },
  {
   "cell_type": "code",
   "execution_count": 9,
   "id": "bc9abf06",
   "metadata": {
    "scrolled": true
   },
   "outputs": [
    {
     "data": {
      "text/plain": [
       "<Figure size 600x600 with 0 Axes>"
      ]
     },
     "metadata": {},
     "output_type": "display_data"
    },
    {
     "data": {
      "image/png": "[encoded data removed]",
      "text/plain": [
       "<Figure size 500x500 with 1 Axes>"
      ]
     },
     "metadata": {},
     "output_type": "display_data"
    }
   ],
   "source": [
    "# distribution of bmi value\n",
    "plt.figure(figsize=(6,6))\n",
    "sns.displot(df['bmi'])\n",
    "plt.title('BMI distribution')\n",
    "plt.show()"
   ]
  },
  {
   "cell_type": "markdown",
   "id": "9c4bd656",
   "metadata": {},
   "source": [
    "## Model Training"
   ]
  },
  {
   "cell_type": "code",
   "execution_count": 10,
   "id": "7c78935d",
   "metadata": {},
   "outputs": [],
   "source": [
    "X = df.drop('charges', axis = 1)\n",
    "y = df.charges"
   ]
  },
  {
   "cell_type": "code",
   "execution_count": 11,
   "id": "51a956d9",
   "metadata": {},
   "outputs": [],
   "source": [
    "X_train, X_test, y_train, y_test = train_test_split(X, y, test_size = 0.2, stratify = X.sex, random_state = 2023)"
   ]
  },
  {
   "cell_type": "markdown",
   "id": "b5cb3c81",
   "metadata": {},
   "source": [
    "## Using sklearn"
   ]
  },
  {
   "cell_type": "code",
   "execution_count": 12,
   "id": "bbd37c6d",
   "metadata": {},
   "outputs": [],
   "source": [
    "model = LinearRegression().fit(X_train, y_train)"
   ]
  },
  {
   "cell_type": "code",
   "execution_count": 13,
   "id": "853c8b08",
   "metadata": {},
   "outputs": [
    {
     "name": "stdout",
     "output_type": "stream",
     "text": [
      "r squared error:  0.761513573480342\n",
      "mean absolute error:  4094.3639700572858\n"
     ]
    }
   ],
   "source": [
    "train_pred = model.predict(X_train)\n",
    "print('r squared error: ',metrics.r2_score(y_train, train_pred))\n",
    "print('mean absolute error: ',metrics.mean_absolute_error(y_train, train_pred))"
   ]
  },
  {
   "cell_type": "code",
   "execution_count": 14,
   "id": "091523a5",
   "metadata": {},
   "outputs": [
    {
     "name": "stdout",
     "output_type": "stream",
     "text": [
      "r squared error:  0.703752330043218\n",
      "mean absolute error:  4368.3563984556495\n"
     ]
    }
   ],
   "source": [
    "test_pred = model.predict(X_test)\n",
    "print('r squared error: ',metrics.r2_score(y_test, test_pred))\n",
    "print('mean absolute error: ',metrics.mean_absolute_error(y_test, test_pred))"
   ]
  },
  {
   "cell_type": "code",
   "execution_count": 15,
   "id": "7ca3c233",
   "metadata": {},
   "outputs": [
    {
     "name": "stdout",
     "output_type": "stream",
     "text": [
      "[3442.85522676]\n",
      "The insurance cost is USD  3442.8552267591476\n"
     ]
    }
   ],
   "source": [
    "input_data = [31,1,25.74,0,1,0]\n",
    "\n",
    "prediction = model.predict([input_data])\n",
    "print(prediction)\n",
    "\n",
    "print('The insurance cost is USD ', prediction[0])"
   ]
  },
  {
   "cell_type": "markdown",
   "id": "367c95bd",
   "metadata": {},
   "source": [
    "## Using tensorflow"
   ]
  },
  {
   "cell_type": "code",
   "execution_count": 16,
   "id": "43a3b012",
   "metadata": {},
   "outputs": [],
   "source": [
    "import tensorflow as tf\n",
    "import keras\n",
    "from keras import layers"
   ]
  },
  {
   "cell_type": "code",
   "execution_count": 17,
   "id": "71b210b2",
   "metadata": {},
   "outputs": [
    {
     "name": "stdout",
     "output_type": "stream",
     "text": [
      "Epoch 1/50\n",
      "34/34 [==============================] - 1s 3ms/step - loss: 13096.4404\n",
      "Epoch 2/50\n",
      "34/34 [==============================] - 0s 3ms/step - loss: 10095.8125\n",
      "Epoch 3/50\n",
      "34/34 [==============================] - 0s 3ms/step - loss: 5232.0942\n",
      "Epoch 4/50\n",
      "34/34 [==============================] - 0s 3ms/step - loss: 3763.5789\n",
      "Epoch 5/50\n",
      "34/34 [==============================] - 0s 3ms/step - loss: 3396.3999\n",
      "Epoch 6/50\n",
      "34/34 [==============================] - 0s 3ms/step - loss: 3080.3337\n",
      "Epoch 7/50\n",
      "34/34 [==============================] - 0s 3ms/step - loss: 2921.8181\n",
      "Epoch 8/50\n",
      "34/34 [==============================] - 0s 3ms/step - loss: 2776.4287\n",
      "Epoch 9/50\n",
      "34/34 [==============================] - 0s 3ms/step - loss: 2642.2751\n",
      "Epoch 10/50\n",
      "34/34 [==============================] - 0s 3ms/step - loss: 2477.9399\n",
      "Epoch 11/50\n",
      "34/34 [==============================] - 0s 3ms/step - loss: 2318.1387\n",
      "Epoch 12/50\n",
      "34/34 [==============================] - 0s 3ms/step - loss: 2233.0056\n",
      "Epoch 13/50\n",
      "34/34 [==============================] - 0s 3ms/step - loss: 2151.8645\n",
      "Epoch 14/50\n",
      "34/34 [==============================] - 0s 2ms/step - loss: 2111.0425\n",
      "Epoch 15/50\n",
      "34/34 [==============================] - 0s 3ms/step - loss: 2091.9282\n",
      "Epoch 16/50\n",
      "34/34 [==============================] - 0s 3ms/step - loss: 2054.4375\n",
      "Epoch 17/50\n",
      "34/34 [==============================] - 0s 3ms/step - loss: 2057.9099\n",
      "Epoch 18/50\n",
      "34/34 [==============================] - 0s 2ms/step - loss: 2016.8124\n",
      "Epoch 19/50\n",
      "34/34 [==============================] - 0s 3ms/step - loss: 2017.4233\n",
      "Epoch 20/50\n",
      "34/34 [==============================] - 0s 3ms/step - loss: 2018.5204\n",
      "Epoch 21/50\n",
      "34/34 [==============================] - 0s 3ms/step - loss: 1982.4093\n",
      "Epoch 22/50\n",
      "34/34 [==============================] - 0s 3ms/step - loss: 1993.8303\n",
      "Epoch 23/50\n",
      "34/34 [==============================] - 0s 3ms/step - loss: 1986.6968\n",
      "Epoch 24/50\n",
      "34/34 [==============================] - 0s 2ms/step - loss: 2040.4719\n",
      "Epoch 25/50\n",
      "34/34 [==============================] - 0s 3ms/step - loss: 1994.8369\n",
      "Epoch 26/50\n",
      "34/34 [==============================] - 0s 2ms/step - loss: 1966.5028\n",
      "Epoch 27/50\n",
      "34/34 [==============================] - 0s 2ms/step - loss: 1945.0200\n",
      "Epoch 28/50\n",
      "34/34 [==============================] - 0s 3ms/step - loss: 1930.2465\n",
      "Epoch 29/50\n",
      "34/34 [==============================] - 0s 3ms/step - loss: 1935.3691\n",
      "Epoch 30/50\n",
      "34/34 [==============================] - 0s 2ms/step - loss: 1912.5830\n",
      "Epoch 31/50\n",
      "34/34 [==============================] - 0s 2ms/step - loss: 1912.1113\n",
      "Epoch 32/50\n",
      "34/34 [==============================] - 0s 3ms/step - loss: 1900.7377\n",
      "Epoch 33/50\n",
      "34/34 [==============================] - 0s 2ms/step - loss: 1925.5464\n",
      "Epoch 34/50\n",
      "34/34 [==============================] - 0s 3ms/step - loss: 1883.9426\n",
      "Epoch 35/50\n",
      "34/34 [==============================] - 0s 2ms/step - loss: 1870.7576\n",
      "Epoch 36/50\n",
      "34/34 [==============================] - 0s 3ms/step - loss: 1949.1869\n",
      "Epoch 37/50\n",
      "34/34 [==============================] - 0s 3ms/step - loss: 1908.1012\n",
      "Epoch 38/50\n",
      "34/34 [==============================] - 0s 3ms/step - loss: 1862.0919\n",
      "Epoch 39/50\n",
      "34/34 [==============================] - 0s 3ms/step - loss: 1854.8612\n",
      "Epoch 40/50\n",
      "34/34 [==============================] - 0s 3ms/step - loss: 1847.5289\n",
      "Epoch 41/50\n",
      "34/34 [==============================] - 0s 3ms/step - loss: 1849.8030\n",
      "Epoch 42/50\n",
      "34/34 [==============================] - 0s 3ms/step - loss: 1867.0219\n",
      "Epoch 43/50\n",
      "34/34 [==============================] - 0s 3ms/step - loss: 1833.8711\n",
      "Epoch 44/50\n",
      "34/34 [==============================] - 0s 3ms/step - loss: 1832.1835\n",
      "Epoch 45/50\n",
      "34/34 [==============================] - 0s 2ms/step - loss: 1845.5784\n",
      "Epoch 46/50\n",
      "34/34 [==============================] - 0s 3ms/step - loss: 1851.1443\n",
      "Epoch 47/50\n",
      "34/34 [==============================] - 0s 3ms/step - loss: 1804.5394\n",
      "Epoch 48/50\n",
      "34/34 [==============================] - 0s 2ms/step - loss: 1795.6411\n",
      "Epoch 49/50\n",
      "34/34 [==============================] - 0s 2ms/step - loss: 1838.1155\n",
      "Epoch 50/50\n",
      "34/34 [==============================] - 0s 2ms/step - loss: 1830.6520\n"
     ]
    },
    {
     "data": {
      "text/plain": [
       "<keras.callbacks.History at 0x2a7edffc7f0>"
      ]
     },
     "execution_count": 17,
     "metadata": {},
     "output_type": "execute_result"
    }
   ],
   "source": [
    "normalizer = layers.Normalization()\n",
    "normalizer.adapt(X_train)\n",
    "\n",
    "# Create a model that include the normalization layer\n",
    "inputs = keras.Input(shape=6)\n",
    "x = normalizer(inputs)\n",
    "x = layers.Dense(500, activation=\"relu\")(x)\n",
    "x = layers.Dense(400, activation=\"relu\")(x)\n",
    "x = layers.Dense(200, activation=\"relu\")(x)\n",
    "x = layers.Dense(100, activation=\"relu\")(x)\n",
    "outputs = layers.Dense(1)(x)\n",
    "model = keras.Model(inputs, outputs)\n",
    "\n",
    "\n",
    "model.compile(optimizer = 'adam',\n",
    "             loss = 'mae')\n",
    "model.fit(X_train, y_train, epochs=50)"
   ]
  },
  {
   "cell_type": "code",
   "execution_count": 18,
   "id": "9f6c8b52",
   "metadata": {},
   "outputs": [
    {
     "name": "stdout",
     "output_type": "stream",
     "text": [
      "9/9 [==============================] - 0s 2ms/step - loss: 2198.6536\n"
     ]
    },
    {
     "data": {
      "text/plain": [
       "2198.653564453125"
      ]
     },
     "execution_count": 18,
     "metadata": {},
     "output_type": "execute_result"
    }
   ],
   "source": [
    "model.evaluate(X_test, y_test)"
   ]
  }
 ],
 "metadata": {
  "kernelspec": {
   "display_name": "Python 3 (ipykernel)",
   "language": "python",
   "name": "python3"
  },
  "language_info": {
   "codemirror_mode": {
    "name": "ipython",
    "version": 3
   },
   "file_extension": ".py",
   "mimetype": "text/x-python",
   "name": "python",
   "nbconvert_exporter": "python",
   "pygments_lexer": "ipython3",
   "version": "3.10.13"
  }
 },
 "nbformat": 4,
 "nbformat_minor": 5
}
