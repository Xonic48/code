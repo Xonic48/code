{
 "cells": [
  {
   "cell_type": "code",
   "execution_count": 1,
   "id": "e9e28e57",
   "metadata": {},
   "outputs": [],
   "source": [
    "import matplotlib.pyplot as plt\n",
    "import numpy as np\n",
    "import pandas as pd\n",
    "import seaborn as sns\n",
    "\n",
    "# Make NumPy printouts easier to read.\n",
    "np.set_printoptions(precision=3, suppress=True)\n",
    "\n",
    "import tensorflow as tf\n",
    "from tensorflow import keras\n",
    "from tensorflow.keras import layers\n",
    "\n",
    "from sklearn.linear_model import LinearRegression\n",
    "from sklearn import metrics\n",
    "from sklearn.metrics import classification_report\n",
    "\n",
    "import warnings\n",
    "warnings.filterwarnings(\"ignore\") "
   ]
  },
  {
   "cell_type": "code",
   "execution_count": 2,
   "id": "5fc18c93",
   "metadata": {},
   "outputs": [
    {
     "data": {
      "text/html": [
       "<div>\n",
       "<style scoped>\n",
       "    .dataframe tbody tr th:only-of-type {\n",
       "        vertical-align: middle;\n",
       "    }\n",
       "\n",
       "    .dataframe tbody tr th {\n",
       "        vertical-align: top;\n",
       "    }\n",
       "\n",
       "    .dataframe thead th {\n",
       "        text-align: right;\n",
       "    }\n",
       "</style>\n",
       "<table border=\"1\" class=\"dataframe\">\n",
       "  <thead>\n",
       "    <tr style=\"text-align: right;\">\n",
       "      <th></th>\n",
       "      <th>age</th>\n",
       "      <th>sex</th>\n",
       "      <th>bmi</th>\n",
       "      <th>children</th>\n",
       "      <th>smoker</th>\n",
       "      <th>region</th>\n",
       "      <th>charges</th>\n",
       "    </tr>\n",
       "  </thead>\n",
       "  <tbody>\n",
       "    <tr>\n",
       "      <th>0</th>\n",
       "      <td>19</td>\n",
       "      <td>female</td>\n",
       "      <td>27.900</td>\n",
       "      <td>0</td>\n",
       "      <td>yes</td>\n",
       "      <td>southwest</td>\n",
       "      <td>16884.92400</td>\n",
       "    </tr>\n",
       "    <tr>\n",
       "      <th>1</th>\n",
       "      <td>18</td>\n",
       "      <td>male</td>\n",
       "      <td>33.770</td>\n",
       "      <td>1</td>\n",
       "      <td>no</td>\n",
       "      <td>southeast</td>\n",
       "      <td>1725.55230</td>\n",
       "    </tr>\n",
       "    <tr>\n",
       "      <th>2</th>\n",
       "      <td>28</td>\n",
       "      <td>male</td>\n",
       "      <td>33.000</td>\n",
       "      <td>3</td>\n",
       "      <td>no</td>\n",
       "      <td>southeast</td>\n",
       "      <td>4449.46200</td>\n",
       "    </tr>\n",
       "    <tr>\n",
       "      <th>3</th>\n",
       "      <td>33</td>\n",
       "      <td>male</td>\n",
       "      <td>22.705</td>\n",
       "      <td>0</td>\n",
       "      <td>no</td>\n",
       "      <td>northwest</td>\n",
       "      <td>21984.47061</td>\n",
       "    </tr>\n",
       "    <tr>\n",
       "      <th>4</th>\n",
       "      <td>32</td>\n",
       "      <td>male</td>\n",
       "      <td>28.880</td>\n",
       "      <td>0</td>\n",
       "      <td>no</td>\n",
       "      <td>northwest</td>\n",
       "      <td>3866.85520</td>\n",
       "    </tr>\n",
       "  </tbody>\n",
       "</table>\n",
       "</div>"
      ],
      "text/plain": [
       "   age     sex     bmi  children smoker     region      charges\n",
       "0   19  female  27.900         0    yes  southwest  16884.92400\n",
       "1   18    male  33.770         1     no  southeast   1725.55230\n",
       "2   28    male  33.000         3     no  southeast   4449.46200\n",
       "3   33    male  22.705         0     no  northwest  21984.47061\n",
       "4   32    male  28.880         0     no  northwest   3866.85520"
      ]
     },
     "execution_count": 2,
     "metadata": {},
     "output_type": "execute_result"
    }
   ],
   "source": [
    "df = pd.read_csv('insurance.csv')\n",
    "df.head()"
   ]
  },
  {
   "cell_type": "code",
   "execution_count": 3,
   "id": "4fa5484d",
   "metadata": {},
   "outputs": [
    {
     "data": {
      "text/plain": [
       "(1338, 7)"
      ]
     },
     "execution_count": 3,
     "metadata": {},
     "output_type": "execute_result"
    }
   ],
   "source": [
    "df.shape"
   ]
  },
  {
   "cell_type": "code",
   "execution_count": 4,
   "id": "d79cb882",
   "metadata": {},
   "outputs": [
    {
     "data": {
      "text/plain": [
       "age         0\n",
       "sex         0\n",
       "bmi         0\n",
       "children    0\n",
       "smoker      0\n",
       "region      0\n",
       "charges     0\n",
       "dtype: int64"
      ]
     },
     "execution_count": 4,
     "metadata": {},
     "output_type": "execute_result"
    }
   ],
   "source": [
    "df.isnull().sum()"
   ]
  },
  {
   "cell_type": "code",
   "execution_count": 5,
   "id": "a7364a62",
   "metadata": {
    "scrolled": true
   },
   "outputs": [
    {
     "data": {
      "text/html": [
       "<div>\n",
       "<style scoped>\n",
       "    .dataframe tbody tr th:only-of-type {\n",
       "        vertical-align: middle;\n",
       "    }\n",
       "\n",
       "    .dataframe tbody tr th {\n",
       "        vertical-align: top;\n",
       "    }\n",
       "\n",
       "    .dataframe thead th {\n",
       "        text-align: right;\n",
       "    }\n",
       "</style>\n",
       "<table border=\"1\" class=\"dataframe\">\n",
       "  <thead>\n",
       "    <tr style=\"text-align: right;\">\n",
       "      <th></th>\n",
       "      <th>age</th>\n",
       "      <th>bmi</th>\n",
       "      <th>children</th>\n",
       "      <th>charges</th>\n",
       "    </tr>\n",
       "  </thead>\n",
       "  <tbody>\n",
       "    <tr>\n",
       "      <th>count</th>\n",
       "      <td>1338.000000</td>\n",
       "      <td>1338.000000</td>\n",
       "      <td>1338.000000</td>\n",
       "      <td>1338.000000</td>\n",
       "    </tr>\n",
       "    <tr>\n",
       "      <th>mean</th>\n",
       "      <td>39.207025</td>\n",
       "      <td>30.663397</td>\n",
       "      <td>1.094918</td>\n",
       "      <td>13270.422265</td>\n",
       "    </tr>\n",
       "    <tr>\n",
       "      <th>std</th>\n",
       "      <td>14.049960</td>\n",
       "      <td>6.098187</td>\n",
       "      <td>1.205493</td>\n",
       "      <td>12110.011237</td>\n",
       "    </tr>\n",
       "    <tr>\n",
       "      <th>min</th>\n",
       "      <td>18.000000</td>\n",
       "      <td>15.960000</td>\n",
       "      <td>0.000000</td>\n",
       "      <td>1121.873900</td>\n",
       "    </tr>\n",
       "    <tr>\n",
       "      <th>25%</th>\n",
       "      <td>27.000000</td>\n",
       "      <td>26.296250</td>\n",
       "      <td>0.000000</td>\n",
       "      <td>4740.287150</td>\n",
       "    </tr>\n",
       "    <tr>\n",
       "      <th>50%</th>\n",
       "      <td>39.000000</td>\n",
       "      <td>30.400000</td>\n",
       "      <td>1.000000</td>\n",
       "      <td>9382.033000</td>\n",
       "    </tr>\n",
       "    <tr>\n",
       "      <th>75%</th>\n",
       "      <td>51.000000</td>\n",
       "      <td>34.693750</td>\n",
       "      <td>2.000000</td>\n",
       "      <td>16639.912515</td>\n",
       "    </tr>\n",
       "    <tr>\n",
       "      <th>max</th>\n",
       "      <td>64.000000</td>\n",
       "      <td>53.130000</td>\n",
       "      <td>5.000000</td>\n",
       "      <td>63770.428010</td>\n",
       "    </tr>\n",
       "  </tbody>\n",
       "</table>\n",
       "</div>"
      ],
      "text/plain": [
       "               age          bmi     children       charges\n",
       "count  1338.000000  1338.000000  1338.000000   1338.000000\n",
       "mean     39.207025    30.663397     1.094918  13270.422265\n",
       "std      14.049960     6.098187     1.205493  12110.011237\n",
       "min      18.000000    15.960000     0.000000   1121.873900\n",
       "25%      27.000000    26.296250     0.000000   4740.287150\n",
       "50%      39.000000    30.400000     1.000000   9382.033000\n",
       "75%      51.000000    34.693750     2.000000  16639.912515\n",
       "max      64.000000    53.130000     5.000000  63770.428010"
      ]
     },
     "execution_count": 5,
     "metadata": {},
     "output_type": "execute_result"
    }
   ],
   "source": [
    "df.describe()"
   ]
  },
  {
   "cell_type": "code",
   "execution_count": 6,
   "id": "24622c74",
   "metadata": {},
   "outputs": [],
   "source": [
    "columns = ['age','bmi','children']"
   ]
  },
  {
   "cell_type": "code",
   "execution_count": 7,
   "id": "64bc5535",
   "metadata": {},
   "outputs": [
    {
     "data": {
      "text/plain": [
       "(1338, 7)"
      ]
     },
     "execution_count": 7,
     "metadata": {},
     "output_type": "execute_result"
    }
   ],
   "source": [
    "for column in columns:\n",
    "    upper_limit = df[column].mean() + 3*df[column].std()\n",
    "    lower_limit = df[column].mean() - 3*df[column].std()\n",
    "    diabetes_df =  df[(df[column]<upper_limit) & (df[column]>lower_limit)]\n",
    "df.shape"
   ]
  },
  {
   "cell_type": "code",
   "execution_count": 8,
   "id": "d663a379",
   "metadata": {},
   "outputs": [],
   "source": [
    "categorical_columns = ['sex','children', 'smoker', 'region']\n",
    "for col in categorical_columns:\n",
    "    df = pd.get_dummies(data = df, prefix = col, prefix_sep='_',\n",
    "                               columns = [col],\n",
    "                               drop_first =True,\n",
    "                               dtype='int8')"
   ]
  },
  {
   "cell_type": "code",
   "execution_count": 9,
   "id": "3231185e",
   "metadata": {
    "scrolled": false
   },
   "outputs": [
    {
     "data": {
      "text/html": [
       "<div>\n",
       "<style scoped>\n",
       "    .dataframe tbody tr th:only-of-type {\n",
       "        vertical-align: middle;\n",
       "    }\n",
       "\n",
       "    .dataframe tbody tr th {\n",
       "        vertical-align: top;\n",
       "    }\n",
       "\n",
       "    .dataframe thead th {\n",
       "        text-align: right;\n",
       "    }\n",
       "</style>\n",
       "<table border=\"1\" class=\"dataframe\">\n",
       "  <thead>\n",
       "    <tr style=\"text-align: right;\">\n",
       "      <th></th>\n",
       "      <th>age</th>\n",
       "      <th>bmi</th>\n",
       "      <th>charges</th>\n",
       "      <th>sex_male</th>\n",
       "      <th>children_1</th>\n",
       "      <th>children_2</th>\n",
       "      <th>children_3</th>\n",
       "      <th>children_4</th>\n",
       "      <th>children_5</th>\n",
       "      <th>smoker_yes</th>\n",
       "      <th>region_northwest</th>\n",
       "      <th>region_southeast</th>\n",
       "      <th>region_southwest</th>\n",
       "    </tr>\n",
       "  </thead>\n",
       "  <tbody>\n",
       "    <tr>\n",
       "      <th>0</th>\n",
       "      <td>19</td>\n",
       "      <td>27.900</td>\n",
       "      <td>16884.92400</td>\n",
       "      <td>0</td>\n",
       "      <td>0</td>\n",
       "      <td>0</td>\n",
       "      <td>0</td>\n",
       "      <td>0</td>\n",
       "      <td>0</td>\n",
       "      <td>1</td>\n",
       "      <td>0</td>\n",
       "      <td>0</td>\n",
       "      <td>1</td>\n",
       "    </tr>\n",
       "    <tr>\n",
       "      <th>1</th>\n",
       "      <td>18</td>\n",
       "      <td>33.770</td>\n",
       "      <td>1725.55230</td>\n",
       "      <td>1</td>\n",
       "      <td>1</td>\n",
       "      <td>0</td>\n",
       "      <td>0</td>\n",
       "      <td>0</td>\n",
       "      <td>0</td>\n",
       "      <td>0</td>\n",
       "      <td>0</td>\n",
       "      <td>1</td>\n",
       "      <td>0</td>\n",
       "    </tr>\n",
       "    <tr>\n",
       "      <th>2</th>\n",
       "      <td>28</td>\n",
       "      <td>33.000</td>\n",
       "      <td>4449.46200</td>\n",
       "      <td>1</td>\n",
       "      <td>0</td>\n",
       "      <td>0</td>\n",
       "      <td>1</td>\n",
       "      <td>0</td>\n",
       "      <td>0</td>\n",
       "      <td>0</td>\n",
       "      <td>0</td>\n",
       "      <td>1</td>\n",
       "      <td>0</td>\n",
       "    </tr>\n",
       "    <tr>\n",
       "      <th>3</th>\n",
       "      <td>33</td>\n",
       "      <td>22.705</td>\n",
       "      <td>21984.47061</td>\n",
       "      <td>1</td>\n",
       "      <td>0</td>\n",
       "      <td>0</td>\n",
       "      <td>0</td>\n",
       "      <td>0</td>\n",
       "      <td>0</td>\n",
       "      <td>0</td>\n",
       "      <td>1</td>\n",
       "      <td>0</td>\n",
       "      <td>0</td>\n",
       "    </tr>\n",
       "    <tr>\n",
       "      <th>4</th>\n",
       "      <td>32</td>\n",
       "      <td>28.880</td>\n",
       "      <td>3866.85520</td>\n",
       "      <td>1</td>\n",
       "      <td>0</td>\n",
       "      <td>0</td>\n",
       "      <td>0</td>\n",
       "      <td>0</td>\n",
       "      <td>0</td>\n",
       "      <td>0</td>\n",
       "      <td>1</td>\n",
       "      <td>0</td>\n",
       "      <td>0</td>\n",
       "    </tr>\n",
       "  </tbody>\n",
       "</table>\n",
       "</div>"
      ],
      "text/plain": [
       "   age     bmi      charges  sex_male  children_1  children_2  children_3  \\\n",
       "0   19  27.900  16884.92400         0           0           0           0   \n",
       "1   18  33.770   1725.55230         1           1           0           0   \n",
       "2   28  33.000   4449.46200         1           0           0           1   \n",
       "3   33  22.705  21984.47061         1           0           0           0   \n",
       "4   32  28.880   3866.85520         1           0           0           0   \n",
       "\n",
       "   children_4  children_5  smoker_yes  region_northwest  region_southeast  \\\n",
       "0           0           0           1                 0                 0   \n",
       "1           0           0           0                 0                 1   \n",
       "2           0           0           0                 0                 1   \n",
       "3           0           0           0                 1                 0   \n",
       "4           0           0           0                 1                 0   \n",
       "\n",
       "   region_southwest  \n",
       "0                 1  \n",
       "1                 0  \n",
       "2                 0  \n",
       "3                 0  \n",
       "4                 0  "
      ]
     },
     "execution_count": 9,
     "metadata": {},
     "output_type": "execute_result"
    }
   ],
   "source": [
    "df.head()"
   ]
  },
  {
   "cell_type": "code",
   "execution_count": 10,
   "id": "326e0ea0",
   "metadata": {},
   "outputs": [
    {
     "data": {
      "text/plain": [
       "(1338, 13)"
      ]
     },
     "execution_count": 10,
     "metadata": {},
     "output_type": "execute_result"
    }
   ],
   "source": [
    "df.shape"
   ]
  },
  {
   "cell_type": "markdown",
   "id": "d23e1913",
   "metadata": {},
   "source": [
    "## Using sklearn"
   ]
  },
  {
   "cell_type": "code",
   "execution_count": 11,
   "id": "7ace5962",
   "metadata": {},
   "outputs": [],
   "source": [
    "from sklearn.model_selection import train_test_split\n",
    "X = df.drop('charges',axis=1)\n",
    "y = df['charges']\n",
    "\n",
    "X_train, X_test, y_train, y_test = train_test_split(X,y,test_size=0.3,random_state=2023)"
   ]
  },
  {
   "cell_type": "code",
   "execution_count": 12,
   "id": "c4561ab0",
   "metadata": {},
   "outputs": [],
   "source": [
    "linreg = LinearRegression().fit(X_train, y_train)\n",
    "\n",
    "y_pred = linreg.predict(X_test)"
   ]
  },
  {
   "cell_type": "code",
   "execution_count": 13,
   "id": "c76e5f02",
   "metadata": {},
   "outputs": [
    {
     "data": {
      "text/plain": [
       "4202.206759734044"
      ]
     },
     "execution_count": 13,
     "metadata": {},
     "output_type": "execute_result"
    }
   ],
   "source": [
    "from sklearn.metrics import mean_absolute_error\n",
    "mean_absolute_error(y_test, y_pred)"
   ]
  },
  {
   "cell_type": "markdown",
   "id": "da0aa598",
   "metadata": {},
   "source": [
    "## Using tensorflow"
   ]
  },
  {
   "cell_type": "code",
   "execution_count": 14,
   "id": "7d81e03a",
   "metadata": {},
   "outputs": [
    {
     "name": "stdout",
     "output_type": "stream",
     "text": [
      "Model: \"sequential\"\n",
      "_________________________________________________________________\n",
      " Layer (type)                Output Shape              Param #   \n",
      "=================================================================\n",
      " dense (Dense)               (None, 64)                832       \n",
      "                                                                 \n",
      " dense_1 (Dense)             (None, 32)                2080      \n",
      "                                                                 \n",
      " dense_2 (Dense)             (None, 1)                 33        \n",
      "                                                                 \n",
      "=================================================================\n",
      "Total params: 2,945\n",
      "Trainable params: 2,945\n",
      "Non-trainable params: 0\n",
      "_________________________________________________________________\n"
     ]
    }
   ],
   "source": [
    "model = tf.keras.Sequential([\n",
    "    tf.keras.layers.Dense(64, activation='relu', input_shape=(12,)),\n",
    "    tf.keras.layers.Dense(32, activation='relu'),\n",
    "    tf.keras.layers.Dense(1, activation='linear')\n",
    "])\n",
    "\n",
    "model.summary()"
   ]
  },
  {
   "cell_type": "code",
   "execution_count": 15,
   "id": "14189151",
   "metadata": {},
   "outputs": [],
   "source": [
    "model.compile(\n",
    "    optimizer=tf.keras.optimizers.Adam(learning_rate=0.1),\n",
    "    loss='mae')"
   ]
  },
  {
   "cell_type": "code",
   "execution_count": 16,
   "id": "990c0425",
   "metadata": {
    "scrolled": true
   },
   "outputs": [
    {
     "name": "stdout",
     "output_type": "stream",
     "text": [
      "Epoch 1/100\n",
      "30/30 [==============================] - 1s 2ms/step - loss: 8562.5918\n",
      "Epoch 2/100\n",
      "30/30 [==============================] - 0s 2ms/step - loss: 6727.5508\n",
      "Epoch 3/100\n",
      "30/30 [==============================] - 0s 2ms/step - loss: 6299.9014\n",
      "Epoch 4/100\n",
      "30/30 [==============================] - 0s 2ms/step - loss: 5858.7031\n",
      "Epoch 5/100\n",
      "30/30 [==============================] - 0s 2ms/step - loss: 4698.6055\n",
      "Epoch 6/100\n",
      "30/30 [==============================] - 0s 2ms/step - loss: 4401.6729\n",
      "Epoch 7/100\n",
      "30/30 [==============================] - 0s 2ms/step - loss: 4202.3491\n",
      "Epoch 8/100\n",
      "30/30 [==============================] - 0s 2ms/step - loss: 4027.5549\n",
      "Epoch 9/100\n",
      "30/30 [==============================] - 0s 2ms/step - loss: 3809.6848\n",
      "Epoch 10/100\n",
      "30/30 [==============================] - 0s 2ms/step - loss: 3781.6753\n",
      "Epoch 11/100\n",
      "30/30 [==============================] - 0s 2ms/step - loss: 3675.2808\n",
      "Epoch 12/100\n",
      "30/30 [==============================] - 0s 2ms/step - loss: 3642.0090\n",
      "Epoch 13/100\n",
      "30/30 [==============================] - 0s 2ms/step - loss: 3847.5342\n",
      "Epoch 14/100\n",
      "30/30 [==============================] - 0s 2ms/step - loss: 3734.3503\n",
      "Epoch 15/100\n",
      "30/30 [==============================] - 0s 2ms/step - loss: 3362.9675\n",
      "Epoch 16/100\n",
      "30/30 [==============================] - 0s 2ms/step - loss: 3234.0491\n",
      "Epoch 17/100\n",
      "30/30 [==============================] - 0s 2ms/step - loss: 3287.4358\n",
      "Epoch 18/100\n",
      "30/30 [==============================] - 0s 2ms/step - loss: 3327.3782\n",
      "Epoch 19/100\n",
      "30/30 [==============================] - 0s 2ms/step - loss: 3367.0215\n",
      "Epoch 20/100\n",
      "30/30 [==============================] - 0s 2ms/step - loss: 3316.1914\n",
      "Epoch 21/100\n",
      "30/30 [==============================] - 0s 2ms/step - loss: 3288.4705\n",
      "Epoch 22/100\n",
      "30/30 [==============================] - 0s 2ms/step - loss: 3269.9043\n",
      "Epoch 23/100\n",
      "30/30 [==============================] - 0s 2ms/step - loss: 3185.0886\n",
      "Epoch 24/100\n",
      "30/30 [==============================] - 0s 2ms/step - loss: 3324.7478\n",
      "Epoch 25/100\n",
      "30/30 [==============================] - 0s 2ms/step - loss: 3226.5796\n",
      "Epoch 26/100\n",
      "30/30 [==============================] - 0s 2ms/step - loss: 3347.9641\n",
      "Epoch 27/100\n",
      "30/30 [==============================] - 0s 2ms/step - loss: 3411.8511\n",
      "Epoch 28/100\n",
      "30/30 [==============================] - 0s 2ms/step - loss: 3126.9324\n",
      "Epoch 29/100\n",
      "30/30 [==============================] - 0s 2ms/step - loss: 3215.8870\n",
      "Epoch 30/100\n",
      "30/30 [==============================] - 0s 2ms/step - loss: 3274.3938\n",
      "Epoch 31/100\n",
      "30/30 [==============================] - 0s 2ms/step - loss: 3191.8101\n",
      "Epoch 32/100\n",
      "30/30 [==============================] - 0s 2ms/step - loss: 3179.9221\n",
      "Epoch 33/100\n",
      "30/30 [==============================] - 0s 2ms/step - loss: 3140.0886\n",
      "Epoch 34/100\n",
      "30/30 [==============================] - 0s 2ms/step - loss: 3497.5825\n",
      "Epoch 35/100\n",
      "30/30 [==============================] - 0s 2ms/step - loss: 3160.0337\n",
      "Epoch 36/100\n",
      "30/30 [==============================] - 0s 2ms/step - loss: 3070.9358\n",
      "Epoch 37/100\n",
      "30/30 [==============================] - 0s 2ms/step - loss: 3183.2424\n",
      "Epoch 38/100\n",
      "30/30 [==============================] - 0s 2ms/step - loss: 3230.0786\n",
      "Epoch 39/100\n",
      "30/30 [==============================] - 0s 2ms/step - loss: 3092.3674\n",
      "Epoch 40/100\n",
      "30/30 [==============================] - 0s 2ms/step - loss: 3303.8870\n",
      "Epoch 41/100\n",
      "30/30 [==============================] - 0s 2ms/step - loss: 3107.8118\n",
      "Epoch 42/100\n",
      "30/30 [==============================] - 0s 2ms/step - loss: 3172.4668\n",
      "Epoch 43/100\n",
      "30/30 [==============================] - 0s 2ms/step - loss: 3079.6021\n",
      "Epoch 44/100\n",
      "30/30 [==============================] - 0s 2ms/step - loss: 3095.9983\n",
      "Epoch 45/100\n",
      "30/30 [==============================] - 0s 2ms/step - loss: 3031.2395\n",
      "Epoch 46/100\n",
      "30/30 [==============================] - 0s 2ms/step - loss: 3273.8489\n",
      "Epoch 47/100\n",
      "30/30 [==============================] - 0s 2ms/step - loss: 3067.6543\n",
      "Epoch 48/100\n",
      "30/30 [==============================] - 0s 2ms/step - loss: 3007.8247\n",
      "Epoch 49/100\n",
      "30/30 [==============================] - 0s 2ms/step - loss: 3170.3408\n",
      "Epoch 50/100\n",
      "30/30 [==============================] - 0s 2ms/step - loss: 2703.0530\n",
      "Epoch 51/100\n",
      "30/30 [==============================] - 0s 2ms/step - loss: 3063.3354\n",
      "Epoch 52/100\n",
      "30/30 [==============================] - 0s 2ms/step - loss: 3247.0789\n",
      "Epoch 53/100\n",
      "30/30 [==============================] - 0s 2ms/step - loss: 2906.6790\n",
      "Epoch 54/100\n",
      "30/30 [==============================] - 0s 2ms/step - loss: 2607.0234\n",
      "Epoch 55/100\n",
      "30/30 [==============================] - 0s 2ms/step - loss: 2744.0669\n",
      "Epoch 56/100\n",
      "30/30 [==============================] - 0s 2ms/step - loss: 3577.3235\n",
      "Epoch 57/100\n",
      "30/30 [==============================] - 0s 2ms/step - loss: 2959.4868\n",
      "Epoch 58/100\n",
      "30/30 [==============================] - 0s 2ms/step - loss: 2661.8911\n",
      "Epoch 59/100\n",
      "30/30 [==============================] - 0s 2ms/step - loss: 3168.4041\n",
      "Epoch 60/100\n",
      "30/30 [==============================] - 0s 2ms/step - loss: 3185.8010\n",
      "Epoch 61/100\n",
      "30/30 [==============================] - 0s 2ms/step - loss: 2940.3896\n",
      "Epoch 62/100\n",
      "30/30 [==============================] - 0s 3ms/step - loss: 3555.1536\n",
      "Epoch 63/100\n",
      "30/30 [==============================] - 0s 3ms/step - loss: 3426.2063\n",
      "Epoch 64/100\n",
      "30/30 [==============================] - 0s 2ms/step - loss: 3375.4375\n",
      "Epoch 65/100\n",
      "30/30 [==============================] - 0s 2ms/step - loss: 3568.6282\n",
      "Epoch 66/100\n",
      "30/30 [==============================] - 0s 2ms/step - loss: 3431.8975\n",
      "Epoch 67/100\n",
      "30/30 [==============================] - 0s 2ms/step - loss: 3325.4253\n",
      "Epoch 68/100\n",
      "30/30 [==============================] - 0s 2ms/step - loss: 3019.3799\n",
      "Epoch 69/100\n",
      "30/30 [==============================] - 0s 2ms/step - loss: 3114.3242\n",
      "Epoch 70/100\n",
      "30/30 [==============================] - 0s 2ms/step - loss: 2785.6135\n",
      "Epoch 71/100\n",
      "30/30 [==============================] - 0s 2ms/step - loss: 2810.5813\n",
      "Epoch 72/100\n",
      "30/30 [==============================] - 0s 2ms/step - loss: 2773.8345\n",
      "Epoch 73/100\n",
      "30/30 [==============================] - 0s 2ms/step - loss: 3369.1477\n",
      "Epoch 74/100\n",
      "30/30 [==============================] - 0s 2ms/step - loss: 2843.4961\n",
      "Epoch 75/100\n",
      "30/30 [==============================] - 0s 2ms/step - loss: 2824.3804\n",
      "Epoch 76/100\n",
      "30/30 [==============================] - 0s 3ms/step - loss: 2925.0503\n",
      "Epoch 77/100\n",
      "30/30 [==============================] - 0s 2ms/step - loss: 3057.7405\n",
      "Epoch 78/100\n",
      "30/30 [==============================] - 0s 3ms/step - loss: 2573.0598\n",
      "Epoch 79/100\n",
      "30/30 [==============================] - 0s 2ms/step - loss: 2925.9143\n",
      "Epoch 80/100\n",
      "30/30 [==============================] - 0s 2ms/step - loss: 2964.5735\n",
      "Epoch 81/100\n",
      "30/30 [==============================] - 0s 2ms/step - loss: 2565.0398\n",
      "Epoch 82/100\n",
      "30/30 [==============================] - 0s 3ms/step - loss: 2604.6821\n",
      "Epoch 83/100\n",
      "30/30 [==============================] - 0s 2ms/step - loss: 2845.6079\n",
      "Epoch 84/100\n",
      "30/30 [==============================] - 0s 2ms/step - loss: 2738.3804\n",
      "Epoch 85/100\n",
      "30/30 [==============================] - 0s 3ms/step - loss: 2626.2864\n",
      "Epoch 86/100\n",
      "30/30 [==============================] - 0s 2ms/step - loss: 2768.3157\n",
      "Epoch 87/100\n",
      "30/30 [==============================] - 0s 2ms/step - loss: 2402.7629\n",
      "Epoch 88/100\n",
      "30/30 [==============================] - 0s 2ms/step - loss: 2388.5427\n",
      "Epoch 89/100\n",
      "30/30 [==============================] - 0s 2ms/step - loss: 2577.0491\n",
      "Epoch 90/100\n",
      "30/30 [==============================] - 0s 2ms/step - loss: 2361.2791\n",
      "Epoch 91/100\n",
      "30/30 [==============================] - 0s 2ms/step - loss: 2519.3945\n",
      "Epoch 92/100\n",
      "30/30 [==============================] - 0s 2ms/step - loss: 2351.5803\n",
      "Epoch 93/100\n",
      "30/30 [==============================] - 0s 2ms/step - loss: 2512.4851\n",
      "Epoch 94/100\n",
      "30/30 [==============================] - 0s 2ms/step - loss: 2429.6594\n",
      "Epoch 95/100\n",
      "30/30 [==============================] - 0s 2ms/step - loss: 2462.8882\n",
      "Epoch 96/100\n",
      "30/30 [==============================] - 0s 3ms/step - loss: 2786.3450\n",
      "Epoch 97/100\n",
      "30/30 [==============================] - 0s 2ms/step - loss: 2474.2007\n",
      "Epoch 98/100\n"
     ]
    },
    {
     "name": "stdout",
     "output_type": "stream",
     "text": [
      "30/30 [==============================] - 0s 2ms/step - loss: 2299.1628\n",
      "Epoch 99/100\n",
      "30/30 [==============================] - 0s 2ms/step - loss: 2437.8386\n",
      "Epoch 100/100\n",
      "30/30 [==============================] - 0s 2ms/step - loss: 2401.6589\n"
     ]
    },
    {
     "data": {
      "text/plain": [
       "<keras.callbacks.History at 0x1302b3e3a30>"
      ]
     },
     "execution_count": 16,
     "metadata": {},
     "output_type": "execute_result"
    }
   ],
   "source": [
    "model.fit(X_train, y_train, epochs = 100)"
   ]
  },
  {
   "cell_type": "code",
   "execution_count": 17,
   "id": "cb56e73a",
   "metadata": {},
   "outputs": [
    {
     "name": "stdout",
     "output_type": "stream",
     "text": [
      "13/13 [==============================] - 0s 2ms/step - loss: 2628.4839\n"
     ]
    },
    {
     "data": {
      "text/plain": [
       "2628.48388671875"
      ]
     },
     "execution_count": 17,
     "metadata": {},
     "output_type": "execute_result"
    }
   ],
   "source": [
    "model.evaluate(X_test, y_test)"
   ]
  },
  {
   "cell_type": "code",
   "execution_count": 18,
   "id": "32ef1608",
   "metadata": {},
   "outputs": [
    {
     "name": "stdout",
     "output_type": "stream",
     "text": [
      "13/13 [==============================] - 0s 1ms/step\n"
     ]
    },
    {
     "data": {
      "text/plain": [
       "array([[ 8402.916],\n",
       "       [ 9894.19 ],\n",
       "       [31858.545],\n",
       "       [ 3507.734],\n",
       "       [10104.453],\n",
       "       [ 4433.332],\n",
       "       [ 5072.566],\n",
       "       [ 2969.585],\n",
       "       [ 7251.29 ],\n",
       "       [42197.93 ]], dtype=float32)"
      ]
     },
     "execution_count": 18,
     "metadata": {},
     "output_type": "execute_result"
    }
   ],
   "source": [
    "y_pred = model.predict(X_test)\n",
    "y_pred[:10]"
   ]
  },
  {
   "cell_type": "code",
   "execution_count": 19,
   "id": "84df6376",
   "metadata": {},
   "outputs": [
    {
     "data": {
      "text/plain": [
       "748      8556.90700\n",
       "745      9910.35985\n",
       "57      34303.16720\n",
       "546      3268.84665\n",
       "279      9855.13140\n",
       "608      4435.09420\n",
       "189      4922.91590\n",
       "507      3077.09550\n",
       "640      6666.24300\n",
       "1070    39871.70430\n",
       "Name: charges, dtype: float64"
      ]
     },
     "execution_count": 19,
     "metadata": {},
     "output_type": "execute_result"
    }
   ],
   "source": [
    "y_test[:10]"
   ]
  }
 ],
 "metadata": {
  "kernelspec": {
   "display_name": "Python 3 (ipykernel)",
   "language": "python",
   "name": "python3"
  },
  "language_info": {
   "codemirror_mode": {
    "name": "ipython",
    "version": 3
   },
   "file_extension": ".py",
   "mimetype": "text/x-python",
   "name": "python",
   "nbconvert_exporter": "python",
   "pygments_lexer": "ipython3",
   "version": "3.10.13"
  }
 },
 "nbformat": 4,
 "nbformat_minor": 5
}
