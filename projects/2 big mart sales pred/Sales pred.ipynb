{
 "cells": [
  {
   "cell_type": "code",
   "execution_count": 1,
   "id": "89e7aee7",
   "metadata": {
    "scrolled": true
   },
   "outputs": [],
   "source": [
    "import numpy as np\n",
    "import pandas as pd\n",
    "import matplotlib.pyplot as plt\n",
    "import seaborn as sns\n",
    "from sklearn.preprocessing import LabelEncoder\n",
    "from sklearn.model_selection import train_test_split\n",
    "from xgboost import XGBRegressor as xgb\n",
    "from sklearn import metrics"
   ]
  },
  {
   "cell_type": "code",
   "execution_count": 2,
   "id": "b71c5baa",
   "metadata": {},
   "outputs": [
    {
     "data": {
      "text/html": [
       "<div>\n",
       "<style scoped>\n",
       "    .dataframe tbody tr th:only-of-type {\n",
       "        vertical-align: middle;\n",
       "    }\n",
       "\n",
       "    .dataframe tbody tr th {\n",
       "        vertical-align: top;\n",
       "    }\n",
       "\n",
       "    .dataframe thead th {\n",
       "        text-align: right;\n",
       "    }\n",
       "</style>\n",
       "<table border=\"1\" class=\"dataframe\">\n",
       "  <thead>\n",
       "    <tr style=\"text-align: right;\">\n",
       "      <th></th>\n",
       "      <th>Item_Identifier</th>\n",
       "      <th>Item_Weight</th>\n",
       "      <th>Item_Fat_Content</th>\n",
       "      <th>Item_Visibility</th>\n",
       "      <th>Item_Type</th>\n",
       "      <th>Item_MRP</th>\n",
       "      <th>Outlet_Identifier</th>\n",
       "      <th>Outlet_Establishment_Year</th>\n",
       "      <th>Outlet_Size</th>\n",
       "      <th>Outlet_Location_Type</th>\n",
       "      <th>Outlet_Type</th>\n",
       "      <th>Item_Outlet_Sales</th>\n",
       "    </tr>\n",
       "  </thead>\n",
       "  <tbody>\n",
       "    <tr>\n",
       "      <th>0</th>\n",
       "      <td>FDA15</td>\n",
       "      <td>9.30</td>\n",
       "      <td>Low Fat</td>\n",
       "      <td>0.016047</td>\n",
       "      <td>Dairy</td>\n",
       "      <td>249.8092</td>\n",
       "      <td>OUT049</td>\n",
       "      <td>1999</td>\n",
       "      <td>Medium</td>\n",
       "      <td>Tier 1</td>\n",
       "      <td>Supermarket Type1</td>\n",
       "      <td>3735.1380</td>\n",
       "    </tr>\n",
       "    <tr>\n",
       "      <th>1</th>\n",
       "      <td>DRC01</td>\n",
       "      <td>5.92</td>\n",
       "      <td>Regular</td>\n",
       "      <td>0.019278</td>\n",
       "      <td>Soft Drinks</td>\n",
       "      <td>48.2692</td>\n",
       "      <td>OUT018</td>\n",
       "      <td>2009</td>\n",
       "      <td>Medium</td>\n",
       "      <td>Tier 3</td>\n",
       "      <td>Supermarket Type2</td>\n",
       "      <td>443.4228</td>\n",
       "    </tr>\n",
       "    <tr>\n",
       "      <th>2</th>\n",
       "      <td>FDN15</td>\n",
       "      <td>17.50</td>\n",
       "      <td>Low Fat</td>\n",
       "      <td>0.016760</td>\n",
       "      <td>Meat</td>\n",
       "      <td>141.6180</td>\n",
       "      <td>OUT049</td>\n",
       "      <td>1999</td>\n",
       "      <td>Medium</td>\n",
       "      <td>Tier 1</td>\n",
       "      <td>Supermarket Type1</td>\n",
       "      <td>2097.2700</td>\n",
       "    </tr>\n",
       "    <tr>\n",
       "      <th>3</th>\n",
       "      <td>FDX07</td>\n",
       "      <td>19.20</td>\n",
       "      <td>Regular</td>\n",
       "      <td>0.000000</td>\n",
       "      <td>Fruits and Vegetables</td>\n",
       "      <td>182.0950</td>\n",
       "      <td>OUT010</td>\n",
       "      <td>1998</td>\n",
       "      <td>NaN</td>\n",
       "      <td>Tier 3</td>\n",
       "      <td>Grocery Store</td>\n",
       "      <td>732.3800</td>\n",
       "    </tr>\n",
       "    <tr>\n",
       "      <th>4</th>\n",
       "      <td>NCD19</td>\n",
       "      <td>8.93</td>\n",
       "      <td>Low Fat</td>\n",
       "      <td>0.000000</td>\n",
       "      <td>Household</td>\n",
       "      <td>53.8614</td>\n",
       "      <td>OUT013</td>\n",
       "      <td>1987</td>\n",
       "      <td>High</td>\n",
       "      <td>Tier 3</td>\n",
       "      <td>Supermarket Type1</td>\n",
       "      <td>994.7052</td>\n",
       "    </tr>\n",
       "  </tbody>\n",
       "</table>\n",
       "</div>"
      ],
      "text/plain": [
       "  Item_Identifier  Item_Weight Item_Fat_Content  Item_Visibility  \\\n",
       "0           FDA15         9.30          Low Fat         0.016047   \n",
       "1           DRC01         5.92          Regular         0.019278   \n",
       "2           FDN15        17.50          Low Fat         0.016760   \n",
       "3           FDX07        19.20          Regular         0.000000   \n",
       "4           NCD19         8.93          Low Fat         0.000000   \n",
       "\n",
       "               Item_Type  Item_MRP Outlet_Identifier  \\\n",
       "0                  Dairy  249.8092            OUT049   \n",
       "1            Soft Drinks   48.2692            OUT018   \n",
       "2                   Meat  141.6180            OUT049   \n",
       "3  Fruits and Vegetables  182.0950            OUT010   \n",
       "4              Household   53.8614            OUT013   \n",
       "\n",
       "   Outlet_Establishment_Year Outlet_Size Outlet_Location_Type  \\\n",
       "0                       1999      Medium               Tier 1   \n",
       "1                       2009      Medium               Tier 3   \n",
       "2                       1999      Medium               Tier 1   \n",
       "3                       1998         NaN               Tier 3   \n",
       "4                       1987        High               Tier 3   \n",
       "\n",
       "         Outlet_Type  Item_Outlet_Sales  \n",
       "0  Supermarket Type1          3735.1380  \n",
       "1  Supermarket Type2           443.4228  \n",
       "2  Supermarket Type1          2097.2700  \n",
       "3      Grocery Store           732.3800  \n",
       "4  Supermarket Type1           994.7052  "
      ]
     },
     "execution_count": 2,
     "metadata": {},
     "output_type": "execute_result"
    }
   ],
   "source": [
    "df = pd.read_csv('train.csv')\n",
    "df.head()"
   ]
  },
  {
   "cell_type": "code",
   "execution_count": 3,
   "id": "98af6fe3",
   "metadata": {},
   "outputs": [
    {
     "name": "stdout",
     "output_type": "stream",
     "text": [
      "<class 'pandas.core.frame.DataFrame'>\n",
      "RangeIndex: 8523 entries, 0 to 8522\n",
      "Data columns (total 12 columns):\n",
      " #   Column                     Non-Null Count  Dtype  \n",
      "---  ------                     --------------  -----  \n",
      " 0   Item_Identifier            8523 non-null   object \n",
      " 1   Item_Weight                7060 non-null   float64\n",
      " 2   Item_Fat_Content           8523 non-null   object \n",
      " 3   Item_Visibility            8523 non-null   float64\n",
      " 4   Item_Type                  8523 non-null   object \n",
      " 5   Item_MRP                   8523 non-null   float64\n",
      " 6   Outlet_Identifier          8523 non-null   object \n",
      " 7   Outlet_Establishment_Year  8523 non-null   int64  \n",
      " 8   Outlet_Size                6113 non-null   object \n",
      " 9   Outlet_Location_Type       8523 non-null   object \n",
      " 10  Outlet_Type                8523 non-null   object \n",
      " 11  Item_Outlet_Sales          8523 non-null   float64\n",
      "dtypes: float64(4), int64(1), object(7)\n",
      "memory usage: 799.2+ KB\n"
     ]
    }
   ],
   "source": [
    "df.info()"
   ]
  },
  {
   "cell_type": "code",
   "execution_count": 4,
   "id": "87e521e0",
   "metadata": {},
   "outputs": [
    {
     "data": {
      "text/plain": [
       "Item_Identifier                 0\n",
       "Item_Weight                  1463\n",
       "Item_Fat_Content                0\n",
       "Item_Visibility                 0\n",
       "Item_Type                       0\n",
       "Item_MRP                        0\n",
       "Outlet_Identifier               0\n",
       "Outlet_Establishment_Year       0\n",
       "Outlet_Size                  2410\n",
       "Outlet_Location_Type            0\n",
       "Outlet_Type                     0\n",
       "Item_Outlet_Sales               0\n",
       "dtype: int64"
      ]
     },
     "execution_count": 4,
     "metadata": {},
     "output_type": "execute_result"
    }
   ],
   "source": [
    "df.isnull().sum()"
   ]
  },
  {
   "cell_type": "code",
   "execution_count": 5,
   "id": "e43a4c9d",
   "metadata": {},
   "outputs": [],
   "source": [
    "df['Item_Weight'].fillna(df['Item_Weight'].mean(), inplace = True)"
   ]
  },
  {
   "cell_type": "code",
   "execution_count": 6,
   "id": "6866746e",
   "metadata": {},
   "outputs": [
    {
     "data": {
      "text/html": [
       "<div>\n",
       "<style scoped>\n",
       "    .dataframe tbody tr th:only-of-type {\n",
       "        vertical-align: middle;\n",
       "    }\n",
       "\n",
       "    .dataframe tbody tr th {\n",
       "        vertical-align: top;\n",
       "    }\n",
       "\n",
       "    .dataframe thead th {\n",
       "        text-align: right;\n",
       "    }\n",
       "</style>\n",
       "<table border=\"1\" class=\"dataframe\">\n",
       "  <thead>\n",
       "    <tr style=\"text-align: right;\">\n",
       "      <th>Outlet_Type</th>\n",
       "      <th>Grocery Store</th>\n",
       "      <th>Supermarket Type1</th>\n",
       "      <th>Supermarket Type2</th>\n",
       "      <th>Supermarket Type3</th>\n",
       "    </tr>\n",
       "  </thead>\n",
       "  <tbody>\n",
       "    <tr>\n",
       "      <th>Outlet_Size</th>\n",
       "      <td>Small</td>\n",
       "      <td>Small</td>\n",
       "      <td>Medium</td>\n",
       "      <td>Medium</td>\n",
       "    </tr>\n",
       "  </tbody>\n",
       "</table>\n",
       "</div>"
      ],
      "text/plain": [
       "Outlet_Type Grocery Store Supermarket Type1 Supermarket Type2  \\\n",
       "Outlet_Size         Small             Small            Medium   \n",
       "\n",
       "Outlet_Type Supermarket Type3  \n",
       "Outlet_Size            Medium  "
      ]
     },
     "execution_count": 6,
     "metadata": {},
     "output_type": "execute_result"
    }
   ],
   "source": [
    "mode_of_Outlet_size = df.pivot_table(values = 'Outlet_Size', columns = 'Outlet_Type', aggfunc = (lambda x :x.mode()[0]))\n",
    "mode_of_Outlet_size"
   ]
  },
  {
   "cell_type": "code",
   "execution_count": 7,
   "id": "1dd49876",
   "metadata": {},
   "outputs": [
    {
     "data": {
      "text/plain": [
       "0       False\n",
       "1       False\n",
       "2       False\n",
       "3        True\n",
       "4       False\n",
       "        ...  \n",
       "8518    False\n",
       "8519     True\n",
       "8520    False\n",
       "8521    False\n",
       "8522    False\n",
       "Name: Outlet_Size, Length: 8523, dtype: bool"
      ]
     },
     "execution_count": 7,
     "metadata": {},
     "output_type": "execute_result"
    }
   ],
   "source": [
    "miss_values = df['Outlet_Size'].isnull()\n",
    "miss_values"
   ]
  },
  {
   "cell_type": "code",
   "execution_count": 8,
   "id": "defdccdd",
   "metadata": {},
   "outputs": [
    {
     "data": {
      "text/plain": [
       "0       Medium\n",
       "1       Medium\n",
       "2       Medium\n",
       "3        Small\n",
       "4         High\n",
       "         ...  \n",
       "8518      High\n",
       "8519     Small\n",
       "8520     Small\n",
       "8521    Medium\n",
       "8522     Small\n",
       "Name: Outlet_Size, Length: 8523, dtype: object"
      ]
     },
     "execution_count": 8,
     "metadata": {},
     "output_type": "execute_result"
    }
   ],
   "source": [
    "df.loc[miss_values, 'Outlet_Size'] = df.loc[miss_values, 'Outlet_Type'].apply(lambda x : mode_of_Outlet_size[x])\n",
    "df['Outlet_Size']"
   ]
  },
  {
   "cell_type": "code",
   "execution_count": 9,
   "id": "0c25f398",
   "metadata": {},
   "outputs": [
    {
     "data": {
      "text/plain": [
       "Item_Identifier              0\n",
       "Item_Weight                  0\n",
       "Item_Fat_Content             0\n",
       "Item_Visibility              0\n",
       "Item_Type                    0\n",
       "Item_MRP                     0\n",
       "Outlet_Identifier            0\n",
       "Outlet_Establishment_Year    0\n",
       "Outlet_Size                  0\n",
       "Outlet_Location_Type         0\n",
       "Outlet_Type                  0\n",
       "Item_Outlet_Sales            0\n",
       "dtype: int64"
      ]
     },
     "execution_count": 9,
     "metadata": {},
     "output_type": "execute_result"
    }
   ],
   "source": [
    "df.isnull().sum()"
   ]
  },
  {
   "cell_type": "code",
   "execution_count": 10,
   "id": "4d9e56f8",
   "metadata": {},
   "outputs": [
    {
     "data": {
      "image/png": "[encoded data removed]",
      "text/plain": [
       "<Figure size 500x500 with 1 Axes>"
      ]
     },
     "metadata": {},
     "output_type": "display_data"
    }
   ],
   "source": [
    "# Item_Weight distribution \n",
    "sns.displot(df['Item_Weight'])\n",
    "plt.show()"
   ]
  },
  {
   "cell_type": "code",
   "execution_count": 11,
   "id": "4178b24c",
   "metadata": {},
   "outputs": [
    {
     "data": {
      "image/png": "[encoded data removed]",
      "text/plain": [
       "<Figure size 500x500 with 1 Axes>"
      ]
     },
     "metadata": {},
     "output_type": "display_data"
    }
   ],
   "source": [
    "# Item_Visibility distribution \n",
    "sns.displot(df['Item_Visibility'])\n",
    "plt.show()"
   ]
  },
  {
   "cell_type": "code",
   "execution_count": 12,
   "id": "bd6d5bcf",
   "metadata": {},
   "outputs": [
    {
     "data": {
      "image/png": "[encoded data removed]",
      "text/plain": [
       "<Figure size 500x500 with 1 Axes>"
      ]
     },
     "metadata": {},
     "output_type": "display_data"
    }
   ],
   "source": [
    "# Item_MRP distribution \n",
    "sns.displot(df['Item_MRP'])\n",
    "plt.show()"
   ]
  },
  {
   "cell_type": "code",
   "execution_count": 13,
   "id": "ac8e9cd0",
   "metadata": {},
   "outputs": [
    {
     "data": {
      "image/png": "[encoded data removed]",
      "text/plain": [
       "<Figure size 500x500 with 1 Axes>"
      ]
     },
     "metadata": {},
     "output_type": "display_data"
    }
   ],
   "source": [
    "# Item_Outlet_Sales distribution \n",
    "sns.displot(df['Item_Outlet_Sales'])\n",
    "plt.show()"
   ]
  },
  {
   "cell_type": "code",
   "execution_count": 14,
   "id": "7b26763f",
   "metadata": {},
   "outputs": [
    {
     "data": {
      "image/png": "[encoded data removed]",
      "text/plain": [
       "<Figure size 640x480 with 1 Axes>"
      ]
     },
     "metadata": {},
     "output_type": "display_data"
    }
   ],
   "source": [
    "# Outlet_Establishment_Year distribution \n",
    "sns.countplot(x ='Outlet_Establishment_Year', data = df)\n",
    "plt.show()"
   ]
  },
  {
   "cell_type": "code",
   "execution_count": 15,
   "id": "6a642e5b",
   "metadata": {},
   "outputs": [
    {
     "data": {
      "image/png": "[encoded data removed]",
      "text/plain": [
       "<Figure size 640x480 with 1 Axes>"
      ]
     },
     "metadata": {},
     "output_type": "display_data"
    }
   ],
   "source": [
    "# Item_Fat_Content distribution \n",
    "sns.countplot(x ='Item_Fat_Content', data = df)\n",
    "plt.show()"
   ]
  },
  {
   "cell_type": "code",
   "execution_count": 16,
   "id": "2c389792",
   "metadata": {},
   "outputs": [
    {
     "data": {
      "image/png": "[encoded data removed]",
      "text/plain": [
       "<Figure size 3000x600 with 1 Axes>"
      ]
     },
     "metadata": {},
     "output_type": "display_data"
    }
   ],
   "source": [
    "# Item_Type distribution \n",
    "plt.figure(figsize = (30,6))\n",
    "sns.countplot(x ='Item_Type', data = df)\n",
    "plt.show()"
   ]
  },
  {
   "cell_type": "code",
   "execution_count": 17,
   "id": "1d5d4cc9",
   "metadata": {
    "scrolled": false
   },
   "outputs": [
    {
     "data": {
      "image/png": "[encoded data removed]",
      "text/plain": [
       "<Figure size 600x600 with 1 Axes>"
      ]
     },
     "metadata": {},
     "output_type": "display_data"
    }
   ],
   "source": [
    "# Outlet_Size column\n",
    "plt.figure(figsize=(6,6))\n",
    "sns.countplot(x='Outlet_Size', data=df)\n",
    "plt.show()"
   ]
  },
  {
   "cell_type": "code",
   "execution_count": 18,
   "id": "58ecb6a6",
   "metadata": {},
   "outputs": [],
   "source": [
    "df.replace({'Item_Fat_Content': {'low fat':'Low Fat','LF':'Low Fat', 'reg':'Regular'}}, inplace=True)"
   ]
  },
  {
   "cell_type": "code",
   "execution_count": 19,
   "id": "0fa6f61b",
   "metadata": {},
   "outputs": [],
   "source": [
    "encoder = LabelEncoder()"
   ]
  },
  {
   "cell_type": "code",
   "execution_count": 20,
   "id": "4e7fad7b",
   "metadata": {},
   "outputs": [],
   "source": [
    "columns = ['Item_Identifier', 'Item_Fat_Content', 'Item_Type', 'Outlet_Identifier', 'Outlet_Size', 'Outlet_Location_Type', 'Outlet_Type']\n",
    "for col in columns:\n",
    "    df[col] = encoder.fit_transform(df[col])"
   ]
  },
  {
   "cell_type": "code",
   "execution_count": 21,
   "id": "cc663191",
   "metadata": {},
   "outputs": [],
   "source": [
    "X = df.drop(columns=['Item_Outlet_Sales'], axis=1)\n",
    "y = df['Item_Outlet_Sales']"
   ]
  },
  {
   "cell_type": "code",
   "execution_count": 22,
   "id": "07b4467a",
   "metadata": {},
   "outputs": [],
   "source": [
    "X_train, X_test, y_train, y_test = train_test_split(X, y, test_size=0.2, random_state=2023)"
   ]
  },
  {
   "cell_type": "code",
   "execution_count": 23,
   "id": "42ee1062",
   "metadata": {
    "scrolled": true
   },
   "outputs": [
    {
     "data": {
      "text/plain": [
       "(8523, 11)"
      ]
     },
     "execution_count": 23,
     "metadata": {},
     "output_type": "execute_result"
    }
   ],
   "source": [
    "X.shape"
   ]
  },
  {
   "cell_type": "markdown",
   "id": "f8accbf7",
   "metadata": {},
   "source": [
    "## Model training"
   ]
  },
  {
   "cell_type": "code",
   "execution_count": 24,
   "id": "c326eeff",
   "metadata": {},
   "outputs": [],
   "source": [
    "model = xgb().fit(X_train, y_train)"
   ]
  },
  {
   "cell_type": "code",
   "execution_count": 25,
   "id": "8ab2ca8f",
   "metadata": {},
   "outputs": [
    {
     "name": "stdout",
     "output_type": "stream",
     "text": [
      "r squared error:  0.8824827393980437\n",
      "mean absolute error:  423.57047939407687\n"
     ]
    }
   ],
   "source": [
    "print('r squared error: ',metrics.r2_score(y_train, model.predict(X_train)))\n",
    "print('mean absolute error: ',metrics.mean_absolute_error(y_train, model.predict(X_train)))"
   ]
  },
  {
   "cell_type": "code",
   "execution_count": 26,
   "id": "ee03636d",
   "metadata": {},
   "outputs": [
    {
     "name": "stdout",
     "output_type": "stream",
     "text": [
      "r squared error:  0.47119114219768576\n",
      "mean absolute error:  865.1619129771786\n"
     ]
    }
   ],
   "source": [
    "print('r squared error: ',metrics.r2_score(y_test, model.predict(X_test)))\n",
    "print('mean absolute error: ',metrics.mean_absolute_error(y_test, model.predict(X_test)))"
   ]
  },
  {
   "cell_type": "markdown",
   "id": "bbbf1c07",
   "metadata": {},
   "source": [
    "## Using tensorflow"
   ]
  },
  {
   "cell_type": "code",
   "execution_count": 27,
   "id": "52e2a098",
   "metadata": {},
   "outputs": [],
   "source": [
    "import tensorflow as tf\n",
    "import keras\n",
    "from keras import layers"
   ]
  },
  {
   "cell_type": "code",
   "execution_count": 28,
   "id": "fd6bb4ad",
   "metadata": {
    "scrolled": true
   },
   "outputs": [
    {
     "name": "stdout",
     "output_type": "stream",
     "text": [
      "Epoch 1/100\n",
      "214/214 [==============================] - 3s 3ms/step - loss: 1310.2156\n",
      "Epoch 2/100\n",
      "214/214 [==============================] - 1s 3ms/step - loss: 1136.7307\n",
      "Epoch 3/100\n",
      "214/214 [==============================] - 1s 4ms/step - loss: 1033.1505\n",
      "Epoch 4/100\n",
      "214/214 [==============================] - 1s 3ms/step - loss: 1023.0571\n",
      "Epoch 5/100\n",
      "214/214 [==============================] - 1s 4ms/step - loss: 1024.8600\n",
      "Epoch 6/100\n",
      "214/214 [==============================] - 1s 3ms/step - loss: 1016.1957\n",
      "Epoch 7/100\n",
      "214/214 [==============================] - 0s 2ms/step - loss: 1013.3622\n",
      "Epoch 8/100\n",
      "214/214 [==============================] - 0s 2ms/step - loss: 1008.4140\n",
      "Epoch 9/100\n",
      "214/214 [==============================] - 0s 2ms/step - loss: 1006.4321\n",
      "Epoch 10/100\n",
      "214/214 [==============================] - 0s 2ms/step - loss: 1006.6671\n",
      "Epoch 11/100\n",
      "214/214 [==============================] - 0s 2ms/step - loss: 1001.2734\n",
      "Epoch 12/100\n",
      "214/214 [==============================] - 0s 2ms/step - loss: 1002.4033\n",
      "Epoch 13/100\n",
      "214/214 [==============================] - 1s 2ms/step - loss: 997.4714\n",
      "Epoch 14/100\n",
      "214/214 [==============================] - 0s 2ms/step - loss: 992.0179\n",
      "Epoch 15/100\n",
      "214/214 [==============================] - 1s 2ms/step - loss: 986.9839\n",
      "Epoch 16/100\n",
      "214/214 [==============================] - 0s 2ms/step - loss: 983.8281\n",
      "Epoch 17/100\n",
      "214/214 [==============================] - 1s 2ms/step - loss: 977.5792\n",
      "Epoch 18/100\n",
      "214/214 [==============================] - 1s 2ms/step - loss: 972.5646\n",
      "Epoch 19/100\n",
      "214/214 [==============================] - 1s 3ms/step - loss: 974.7011\n",
      "Epoch 20/100\n",
      "214/214 [==============================] - 1s 3ms/step - loss: 958.8894\n",
      "Epoch 21/100\n",
      "214/214 [==============================] - 1s 2ms/step - loss: 954.4615\n",
      "Epoch 22/100\n",
      "214/214 [==============================] - 1s 2ms/step - loss: 950.1613\n",
      "Epoch 23/100\n",
      "214/214 [==============================] - 1s 2ms/step - loss: 942.1609\n",
      "Epoch 24/100\n",
      "214/214 [==============================] - 0s 2ms/step - loss: 938.9009\n",
      "Epoch 25/100\n",
      "214/214 [==============================] - 1s 2ms/step - loss: 936.9708\n",
      "Epoch 26/100\n",
      "214/214 [==============================] - 0s 2ms/step - loss: 923.2880\n",
      "Epoch 27/100\n",
      "214/214 [==============================] - 0s 2ms/step - loss: 929.1674\n",
      "Epoch 28/100\n",
      "214/214 [==============================] - 0s 2ms/step - loss: 918.0717\n",
      "Epoch 29/100\n",
      "214/214 [==============================] - 0s 2ms/step - loss: 914.9572\n",
      "Epoch 30/100\n",
      "214/214 [==============================] - 0s 2ms/step - loss: 907.8965\n",
      "Epoch 31/100\n",
      "214/214 [==============================] - 0s 2ms/step - loss: 906.5529\n",
      "Epoch 32/100\n",
      "214/214 [==============================] - 0s 2ms/step - loss: 903.5818\n",
      "Epoch 33/100\n",
      "214/214 [==============================] - 0s 2ms/step - loss: 893.9977\n",
      "Epoch 34/100\n",
      "214/214 [==============================] - 0s 2ms/step - loss: 893.5079\n",
      "Epoch 35/100\n",
      "214/214 [==============================] - 0s 2ms/step - loss: 888.7369\n",
      "Epoch 36/100\n",
      "214/214 [==============================] - 0s 2ms/step - loss: 890.7239\n",
      "Epoch 37/100\n",
      "214/214 [==============================] - 0s 2ms/step - loss: 892.7693\n",
      "Epoch 38/100\n",
      "214/214 [==============================] - 0s 2ms/step - loss: 889.3150\n",
      "Epoch 39/100\n",
      "214/214 [==============================] - 0s 2ms/step - loss: 882.7032\n",
      "Epoch 40/100\n",
      "214/214 [==============================] - 0s 2ms/step - loss: 888.0289\n",
      "Epoch 41/100\n",
      "214/214 [==============================] - 0s 2ms/step - loss: 897.9630\n",
      "Epoch 42/100\n",
      "214/214 [==============================] - 0s 2ms/step - loss: 889.3369\n",
      "Epoch 43/100\n",
      "214/214 [==============================] - 0s 2ms/step - loss: 886.3220\n",
      "Epoch 44/100\n",
      "214/214 [==============================] - 0s 2ms/step - loss: 883.6498\n",
      "Epoch 45/100\n",
      "214/214 [==============================] - 0s 2ms/step - loss: 876.5736\n",
      "Epoch 46/100\n",
      "214/214 [==============================] - 0s 2ms/step - loss: 881.3464\n",
      "Epoch 47/100\n",
      "214/214 [==============================] - 0s 2ms/step - loss: 873.4767\n",
      "Epoch 48/100\n",
      "214/214 [==============================] - 0s 2ms/step - loss: 874.3638\n",
      "Epoch 49/100\n",
      "214/214 [==============================] - 0s 2ms/step - loss: 873.6340\n",
      "Epoch 50/100\n",
      "214/214 [==============================] - 0s 2ms/step - loss: 874.6954\n",
      "Epoch 51/100\n",
      "214/214 [==============================] - 0s 2ms/step - loss: 874.6453\n",
      "Epoch 52/100\n",
      "214/214 [==============================] - 1s 2ms/step - loss: 871.3398\n",
      "Epoch 53/100\n",
      "214/214 [==============================] - 1s 2ms/step - loss: 873.8359\n",
      "Epoch 54/100\n",
      "214/214 [==============================] - 1s 2ms/step - loss: 872.9042\n",
      "Epoch 55/100\n",
      "214/214 [==============================] - 1s 2ms/step - loss: 867.1054\n",
      "Epoch 56/100\n",
      "214/214 [==============================] - 1s 2ms/step - loss: 862.8568\n",
      "Epoch 57/100\n",
      "214/214 [==============================] - 1s 2ms/step - loss: 873.6049\n",
      "Epoch 58/100\n",
      "214/214 [==============================] - 1s 2ms/step - loss: 860.1801\n",
      "Epoch 59/100\n",
      "214/214 [==============================] - 1s 2ms/step - loss: 864.4444\n",
      "Epoch 60/100\n",
      "214/214 [==============================] - 0s 2ms/step - loss: 862.5288\n",
      "Epoch 61/100\n",
      "214/214 [==============================] - 0s 2ms/step - loss: 864.6022\n",
      "Epoch 62/100\n",
      "214/214 [==============================] - 0s 2ms/step - loss: 856.3873\n",
      "Epoch 63/100\n",
      "214/214 [==============================] - 0s 2ms/step - loss: 867.8044\n",
      "Epoch 64/100\n",
      "214/214 [==============================] - 0s 2ms/step - loss: 860.4636\n",
      "Epoch 65/100\n",
      "214/214 [==============================] - 0s 2ms/step - loss: 859.0006\n",
      "Epoch 66/100\n",
      "214/214 [==============================] - 0s 2ms/step - loss: 859.0102\n",
      "Epoch 67/100\n",
      "214/214 [==============================] - 0s 2ms/step - loss: 854.6037\n",
      "Epoch 68/100\n",
      "214/214 [==============================] - 1s 2ms/step - loss: 850.5521\n",
      "Epoch 69/100\n",
      "214/214 [==============================] - 0s 2ms/step - loss: 850.1543\n",
      "Epoch 70/100\n",
      "214/214 [==============================] - 0s 2ms/step - loss: 850.2967\n",
      "Epoch 71/100\n",
      "214/214 [==============================] - 0s 2ms/step - loss: 850.1146\n",
      "Epoch 72/100\n",
      "214/214 [==============================] - 0s 2ms/step - loss: 861.4777\n",
      "Epoch 73/100\n",
      "214/214 [==============================] - 0s 2ms/step - loss: 843.7648\n",
      "Epoch 74/100\n",
      "214/214 [==============================] - 0s 2ms/step - loss: 855.8083\n",
      "Epoch 75/100\n",
      "214/214 [==============================] - 0s 2ms/step - loss: 852.3970\n",
      "Epoch 76/100\n",
      "214/214 [==============================] - 0s 2ms/step - loss: 845.2409\n",
      "Epoch 77/100\n",
      "214/214 [==============================] - 0s 2ms/step - loss: 842.6912\n",
      "Epoch 78/100\n",
      "214/214 [==============================] - 0s 2ms/step - loss: 839.3802\n",
      "Epoch 79/100\n",
      "214/214 [==============================] - 0s 2ms/step - loss: 840.1049\n",
      "Epoch 80/100\n",
      "214/214 [==============================] - 0s 2ms/step - loss: 833.5211\n",
      "Epoch 81/100\n",
      "214/214 [==============================] - 0s 2ms/step - loss: 857.8853\n",
      "Epoch 82/100\n",
      "214/214 [==============================] - 0s 2ms/step - loss: 836.7529\n",
      "Epoch 83/100\n",
      "214/214 [==============================] - 0s 2ms/step - loss: 835.1329\n",
      "Epoch 84/100\n",
      "214/214 [==============================] - 0s 2ms/step - loss: 836.3002\n",
      "Epoch 85/100\n",
      "214/214 [==============================] - 0s 2ms/step - loss: 835.8589\n",
      "Epoch 86/100\n",
      "214/214 [==============================] - 0s 2ms/step - loss: 825.1259\n",
      "Epoch 87/100\n",
      "214/214 [==============================] - 0s 2ms/step - loss: 825.4115\n",
      "Epoch 88/100\n",
      "214/214 [==============================] - 0s 2ms/step - loss: 824.4701\n",
      "Epoch 89/100\n",
      "214/214 [==============================] - 0s 2ms/step - loss: 823.6895\n",
      "Epoch 90/100\n",
      "214/214 [==============================] - 0s 2ms/step - loss: 821.6474\n",
      "Epoch 91/100\n",
      "214/214 [==============================] - 0s 2ms/step - loss: 817.0745\n",
      "Epoch 92/100\n",
      "214/214 [==============================] - 0s 2ms/step - loss: 817.7191\n",
      "Epoch 93/100\n",
      "214/214 [==============================] - 0s 2ms/step - loss: 816.1313\n",
      "Epoch 94/100\n",
      "214/214 [==============================] - 0s 2ms/step - loss: 815.3974\n",
      "Epoch 95/100\n",
      "214/214 [==============================] - 0s 2ms/step - loss: 815.4361\n",
      "Epoch 96/100\n",
      "214/214 [==============================] - 0s 2ms/step - loss: 817.5487\n",
      "Epoch 97/100\n"
     ]
    },
    {
     "name": "stdout",
     "output_type": "stream",
     "text": [
      "214/214 [==============================] - 0s 2ms/step - loss: 815.3147\n",
      "Epoch 98/100\n",
      "214/214 [==============================] - 0s 2ms/step - loss: 815.3508\n",
      "Epoch 99/100\n",
      "214/214 [==============================] - 1s 2ms/step - loss: 821.6415\n",
      "Epoch 100/100\n",
      "214/214 [==============================] - 1s 2ms/step - loss: 807.3743\n"
     ]
    },
    {
     "data": {
      "text/plain": [
       "<keras.callbacks.History at 0x18c2aac4220>"
      ]
     },
     "execution_count": 28,
     "metadata": {},
     "output_type": "execute_result"
    }
   ],
   "source": [
    "# Create a model that include the normalization layer\n",
    "model = tf.keras.Sequential([\n",
    "    layers.Input(shape = 11),\n",
    "    layers.Normalization(),  \n",
    "    layers.Dense(128, activation='relu'),\n",
    "    layers.Dense(64, activation='relu'),\n",
    "    layers.Dense(1)\n",
    "  ])\n",
    "\n",
    "model.compile(loss='mae',\n",
    "            optimizer=\"adam\")\n",
    "model.fit(X_train, y_train, epochs = 100)"
   ]
  },
  {
   "cell_type": "code",
   "execution_count": 29,
   "id": "66f0a916",
   "metadata": {},
   "outputs": [
    {
     "name": "stdout",
     "output_type": "stream",
     "text": [
      "54/54 [==============================] - 0s 2ms/step - loss: 835.5881\n"
     ]
    },
    {
     "data": {
      "text/plain": [
       "835.5880737304688"
      ]
     },
     "execution_count": 29,
     "metadata": {},
     "output_type": "execute_result"
    }
   ],
   "source": [
    "model.evaluate(X_test, y_test)"
   ]
  }
 ],
 "metadata": {
  "kernelspec": {
   "display_name": "Python 3 (ipykernel)",
   "language": "python",
   "name": "python3"
  },
  "language_info": {
   "codemirror_mode": {
    "name": "ipython",
    "version": 3
   },
   "file_extension": ".py",
   "mimetype": "text/x-python",
   "name": "python",
   "nbconvert_exporter": "python",
   "pygments_lexer": "ipython3",
   "version": "3.10.13"
  }
 },
 "nbformat": 4,
 "nbformat_minor": 5
}
